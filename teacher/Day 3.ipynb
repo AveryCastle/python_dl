{
 "cells": [
  {
   "cell_type": "code",
   "execution_count": 1,
   "metadata": {},
   "outputs": [],
   "source": [
    "import numpy as np\n",
    "import pandas as pd\n",
    "import matplotlib.pyplot as plt\n",
    "from sklearn.model_selection import train_test_split\n",
    "\n",
    "%matplotlib inline"
   ]
  },
  {
   "cell_type": "code",
   "execution_count": null,
   "metadata": {},
   "outputs": [],
   "source": [
    "# 부모 디렉토리에 있는 모듈을 import하기 위해서 추가함.\n",
    "import os,sys,inspect\n",
    "currentdir = os.path.dirname(os.path.abspath(inspect.getfile(inspect.currentframe())))\n",
    "parentdir = os.path.dirname(currentdir)\n",
    "print(currentdir, parentdir)\n",
    "\n",
    "sys.path.insert(0,parentdir)"
   ]
  },
  {
   "cell_type": "code",
   "execution_count": 5,
   "metadata": {},
   "outputs": [],
   "source": [
    "from deepy.dataset import mnist"
   ]
  },
  {
   "cell_type": "code",
   "execution_count": 6,
   "metadata": {},
   "outputs": [],
   "source": [
    "(X_train, y_train), (X_test, y_test) = \\\n",
    "    mnist.load_mnist(flatten=False, normalize=False)"
   ]
  },
  {
   "cell_type": "code",
   "execution_count": 7,
   "metadata": {},
   "outputs": [],
   "source": [
    "X_train = X_train.reshape(-1, 1*28*28)\n",
    "X_test = X_test.reshape(-1, 1*28*28)"
   ]
  },
  {
   "cell_type": "code",
   "execution_count": 8,
   "metadata": {},
   "outputs": [],
   "source": [
    "X_train = X_train.astype('float') / 255.0\n",
    "X_test = X_test.astype('float') / 255.0"
   ]
  },
  {
   "cell_type": "markdown",
   "metadata": {},
   "source": [
    "데이터에 대해 처음으로 적용할만한 모델은 선형모델입니다."
   ]
  },
  {
   "cell_type": "code",
   "execution_count": 9,
   "metadata": {},
   "outputs": [],
   "source": [
    "from sklearn.linear_model import SGDClassifier"
   ]
  },
  {
   "cell_type": "markdown",
   "metadata": {},
   "source": [
    "대용량 고차원 데이터셋에 대한 로지스틱 회귀"
   ]
  },
  {
   "cell_type": "code",
   "execution_count": 10,
   "metadata": {},
   "outputs": [],
   "source": [
    "logreg = SGDClassifier(loss='log', tol=1e-4).fit(\n",
    "    X_train, y_train)"
   ]
  },
  {
   "cell_type": "code",
   "execution_count": 11,
   "metadata": {},
   "outputs": [
    {
     "data": {
      "text/plain": [
       "(0.9183166666666667, 0.9142)"
      ]
     },
     "execution_count": 11,
     "metadata": {},
     "output_type": "execute_result"
    }
   ],
   "source": [
    "logreg.score(X_train, y_train), logreg.score(X_test, y_test)"
   ]
  },
  {
   "cell_type": "code",
   "execution_count": 12,
   "metadata": {},
   "outputs": [],
   "source": [
    "from sklearn.ensemble import RandomForestClassifier"
   ]
  },
  {
   "cell_type": "code",
   "execution_count": 13,
   "metadata": {},
   "outputs": [
    {
     "data": {
      "text/plain": [
       "(0.9990666666666667, 0.9441)"
      ]
     },
     "execution_count": 13,
     "metadata": {},
     "output_type": "execute_result"
    }
   ],
   "source": [
    "forest = RandomForestClassifier().fit(X_train, y_train)\n",
    "forest.score(X_train, y_train), forest.score(X_test, y_test)"
   ]
  },
  {
   "cell_type": "markdown",
   "metadata": {},
   "source": [
    "# 손실함수\n",
    "\n"
   ]
  },
  {
   "cell_type": "code",
   "execution_count": 14,
   "metadata": {},
   "outputs": [],
   "source": [
    "def 평균제곱오차(y_pred, y):\n",
    "    \"\"\"회귀용 손실함수\"\"\"\n",
    "    return 0.5 * np.sum((y-y_pred)**2)"
   ]
  },
  {
   "cell_type": "code",
   "execution_count": 15,
   "metadata": {},
   "outputs": [],
   "source": [
    "mse = mean_squared_error = 평균제곱오차"
   ]
  },
  {
   "cell_type": "code",
   "execution_count": 16,
   "metadata": {},
   "outputs": [
    {
     "data": {
      "text/plain": [
       "(0.0, 0.004999999999999987, 0.24499999999999997)"
      ]
     },
     "execution_count": 16,
     "metadata": {},
     "output_type": "execute_result"
    }
   ],
   "source": [
    "y = 1.2\n",
    "mse(1.2, y), mse(1.1, y), mse(0.5, y)"
   ]
  },
  {
   "cell_type": "code",
   "execution_count": 17,
   "metadata": {},
   "outputs": [],
   "source": [
    "def cross_entroy_error(y_pred, y):\n",
    "    \"\"\"분류용 손실함수\"\"\"\n",
    "    delta = 1e-7 # 아주 작은 값.     \n",
    "    return -np.sum(y * np.log(y_pred + delta))\n",
    "\n",
    "def cross_entropy_error_batch(y_pred, y):\n",
    "    batch_size = len(y)\n",
    "    cse = cross_entroy_error(y_pred, y) / batch_size\n",
    "    return cse"
   ]
  },
  {
   "cell_type": "code",
   "execution_count": 18,
   "metadata": {},
   "outputs": [],
   "source": [
    "y = np.array([0, 1, 0])\n",
    "y_pred1 = np.array([0.1, 0.7, 0.2])\n",
    "y_pred2 = np.array([0.7, 0.1, 0.2])\n",
    "y_pred3 = np.array([0.2, 0.6, 0.2])"
   ]
  },
  {
   "cell_type": "code",
   "execution_count": 19,
   "metadata": {},
   "outputs": [
    {
     "data": {
      "text/plain": [
       "0.3566748010815999"
      ]
     },
     "execution_count": 19,
     "metadata": {},
     "output_type": "execute_result"
    }
   ],
   "source": [
    "cross_entroy_error(y_pred1, y)"
   ]
  },
  {
   "cell_type": "code",
   "execution_count": 20,
   "metadata": {},
   "outputs": [
    {
     "data": {
      "text/plain": [
       "2.302584092994546"
      ]
     },
     "execution_count": 20,
     "metadata": {},
     "output_type": "execute_result"
    }
   ],
   "source": [
    "cross_entroy_error(y_pred2, y)"
   ]
  },
  {
   "cell_type": "code",
   "execution_count": 21,
   "metadata": {},
   "outputs": [
    {
     "data": {
      "text/plain": [
       "0.510825457099338"
      ]
     },
     "execution_count": 21,
     "metadata": {},
     "output_type": "execute_result"
    }
   ],
   "source": [
    "cross_entroy_error(y_pred3, y)"
   ]
  },
  {
   "cell_type": "markdown",
   "metadata": {},
   "source": [
    "### 손실함수 최적화"
   ]
  },
  {
   "cell_type": "markdown",
   "metadata": {},
   "source": [
    "$$ f(x) = x^2 $$"
   ]
  },
  {
   "cell_type": "code",
   "execution_count": 22,
   "metadata": {},
   "outputs": [],
   "source": [
    "f = lambda x: x**2"
   ]
  },
  {
   "cell_type": "code",
   "execution_count": 23,
   "metadata": {},
   "outputs": [],
   "source": [
    "dydx = lambda x: 2*x"
   ]
  },
  {
   "cell_type": "code",
   "execution_count": 24,
   "metadata": {},
   "outputs": [],
   "source": [
    "def 수치미분(f, x):\n",
    "    h = 1e-4\n",
    "    return (f(x+h)-f(x-h)) / (2*h)\n",
    "\n",
    "numerical_diff = 수치미분"
   ]
  },
  {
   "cell_type": "code",
   "execution_count": 25,
   "metadata": {},
   "outputs": [],
   "source": [
    "x = np.linspace(-5., 5., 100)"
   ]
  },
  {
   "cell_type": "code",
   "execution_count": 26,
   "metadata": {},
   "outputs": [
    {
     "data": {
      "text/plain": [
       "[<matplotlib.lines.Line2D at 0x1177a5f60>]"
      ]
     },
     "execution_count": 26,
     "metadata": {},
     "output_type": "execute_result"
    },
    {
     "data": {
      "image/png": "[encoded data removed]",
      "text/plain": [
       "<matplotlib.figure.Figure at 0x10a412240>"
      ]
     },
     "metadata": {},
     "output_type": "display_data"
    }
   ],
   "source": [
    "plt.plot(x, f(x))\n",
    "plt.plot(x, dydx(x), 'g')\n",
    "plt.plot(x, numerical_diff(f, x), 'k--')\n",
    "plt.plot(0, 0, 'ro')"
   ]
  },
  {
   "cell_type": "markdown",
   "metadata": {},
   "source": [
    "$$ f(x_0, x_1) = x_0^2 + x_1^2 $$"
   ]
  },
  {
   "cell_type": "code",
   "execution_count": 27,
   "metadata": {},
   "outputs": [],
   "source": [
    "f2 = lambda x: np.sum(x**2, 0)"
   ]
  },
  {
   "cell_type": "code",
   "execution_count": 28,
   "metadata": {},
   "outputs": [],
   "source": [
    "x0 = np.arange(-5, 5, 0.25)\n",
    "x1 = np.arange(-5, 5, 0.25)"
   ]
  },
  {
   "cell_type": "markdown",
   "metadata": {},
   "source": [
    "3차원 좌표쌍 생성"
   ]
  },
  {
   "cell_type": "code",
   "execution_count": 29,
   "metadata": {},
   "outputs": [],
   "source": [
    "X0, X1 = np.meshgrid(x0, x1)"
   ]
  },
  {
   "cell_type": "code",
   "execution_count": 30,
   "metadata": {},
   "outputs": [],
   "source": [
    "from mpl_toolkits.mplot3d import Axes3D"
   ]
  },
  {
   "cell_type": "code",
   "execution_count": 31,
   "metadata": {},
   "outputs": [
    {
     "data": {
      "text/plain": [
       "<mpl_toolkits.mplot3d.art3d.Poly3DCollection at 0x1179832b0>"
      ]
     },
     "execution_count": 31,
     "metadata": {},
     "output_type": "execute_result"
    },
    {
     "data": {
      "image/png": "[encoded data removed]",
      "text/plain": [
       "<matplotlib.figure.Figure at 0x116860240>"
      ]
     },
     "metadata": {},
     "output_type": "display_data"
    }
   ],
   "source": [
    "fig = plt.figure() # 그래프 틀 생성\n",
    "ax = Axes3D(fig) # 3차원 그래프 틀로 설정\n",
    "ax.plot_surface(X0, X1, f2(np.array([X0, X1])))"
   ]
  },
  {
   "cell_type": "markdown",
   "metadata": {},
   "source": [
    "### 기울기\n",
    "\n",
    "Gradient"
   ]
  },
  {
   "cell_type": "code",
   "execution_count": 32,
   "metadata": {},
   "outputs": [],
   "source": [
    "def 경사산출(f, x):\n",
    "    h = 1e-4\n",
    "    경사 = np.zeros_like(x)\n",
    "    \n",
    "    # 각 x 축에 대해 경사 산출(미분 수행)\n",
    "    for i, xi in enumerate(x):\n",
    "        # f(x+h)\n",
    "        x[i] = xi + h        \n",
    "        fxh1 = f(x)\n",
    "        # f(x-h)\n",
    "        x[i] = xi - h\n",
    "        fxh2 = f(x)\n",
    "        \n",
    "        경사[i] = (fxh1 - fxh2) / (2*h)\n",
    "        # 원래 값 복원\n",
    "        x[i] = xi\n",
    "        \n",
    "    return 경사\n",
    "\n",
    "numerical_gradient = 경사산출"
   ]
  },
  {
   "cell_type": "code",
   "execution_count": 33,
   "metadata": {},
   "outputs": [
    {
     "data": {
      "text/plain": [
       "array([6., 8.])"
      ]
     },
     "execution_count": 33,
     "metadata": {},
     "output_type": "execute_result"
    }
   ],
   "source": [
    "numerical_gradient(f2, np.array([3.0, 4.0]))"
   ]
  },
  {
   "cell_type": "code",
   "execution_count": 34,
   "metadata": {},
   "outputs": [
    {
     "data": {
      "text/plain": [
       "array([0., 4.])"
      ]
     },
     "execution_count": 34,
     "metadata": {},
     "output_type": "execute_result"
    }
   ],
   "source": [
    "numerical_gradient(f2, np.array([0.0, 2.0]))"
   ]
  },
  {
   "cell_type": "code",
   "execution_count": 35,
   "metadata": {},
   "outputs": [
    {
     "data": {
      "text/plain": [
       "array([6., 0.])"
      ]
     },
     "execution_count": 35,
     "metadata": {},
     "output_type": "execute_result"
    }
   ],
   "source": [
    "numerical_gradient(f2, np.array([3.0, 0.0]))"
   ]
  },
  {
   "cell_type": "markdown",
   "metadata": {},
   "source": [
    "### 경사 하강법\n",
    "\n",
    "Gradient Descent (GD)"
   ]
  },
  {
   "cell_type": "code",
   "execution_count": 36,
   "metadata": {},
   "outputs": [],
   "source": [
    "def gradient_descent(f, 출발점, 학습률=0.01, 반복횟수=100):\n",
    "    x = 출발점.copy()\n",
    "    \n",
    "    x_history = [x.copy()]\n",
    "    for i in range(반복횟수):\n",
    "        경사 = numerical_gradient(f, x)\n",
    "        # 하강\n",
    "        x -= 경사 * 학습률\n",
    "        x_history.append(x.copy())\n",
    "    return np.array(x_history)"
   ]
  },
  {
   "cell_type": "code",
   "execution_count": 37,
   "metadata": {},
   "outputs": [],
   "source": [
    "출발점 = np.array([-3., 4.])\n",
    "x_history = gradient_descent(f2, 출발점, 학습률=0.1)"
   ]
  },
  {
   "cell_type": "code",
   "execution_count": 38,
   "metadata": {},
   "outputs": [
    {
     "data": {
      "text/plain": [
       "[<matplotlib.lines.Line2D at 0x1179a8940>]"
      ]
     },
     "execution_count": 38,
     "metadata": {},
     "output_type": "execute_result"
    },
    {
     "data": {
      "image/png": "[encoded data removed]",
      "text/plain": [
       "<matplotlib.figure.Figure at 0x1177d5dd8>"
      ]
     },
     "metadata": {},
     "output_type": "display_data"
    }
   ],
   "source": [
    "plt.plot(x_history[:, 0], x_history[:, 1], 'ro')\n",
    "# 보조선\n",
    "plt.plot([-5, 5], [0, 0], 'b--')\n",
    "plt.plot([0, 0], [-5, 5], 'b--')"
   ]
  },
  {
   "cell_type": "code",
   "execution_count": 39,
   "metadata": {},
   "outputs": [
    {
     "data": {
      "text/plain": [
       "array([-6.11110793e-10,  8.14814391e-10])"
      ]
     },
     "execution_count": 39,
     "metadata": {},
     "output_type": "execute_result"
    }
   ],
   "source": [
    "x_opt = x_history[-1]\n",
    "x_opt"
   ]
  },
  {
   "cell_type": "markdown",
   "metadata": {},
   "source": [
    "## 신경망 학습"
   ]
  },
  {
   "cell_type": "code",
   "execution_count": 40,
   "metadata": {},
   "outputs": [],
   "source": [
    "def numerical_gradient_2D(f, X):\n",
    "    if X.ndim == 1:\n",
    "        return numerical_gradient(f, X)\n",
    "    \n",
    "    # 2차원 행렬인 경우\n",
    "    grad = np.zeros_like(X)\n",
    "    for i,x in enumerate(X):\n",
    "        grad[i] = numerical_gradient(f, x)\n",
    "        \n",
    "    return grad\n",
    "\n",
    "\n",
    "# %load neuralnet.py\n",
    "import numpy as np\n",
    "\n",
    "class Layer:\n",
    "    def __init__(self, 입력수, 출력수, 활성화):\n",
    "        self.W = np.random.randn(입력수, 출력수)\n",
    "        self.b = np.random.randn(출력수)\n",
    "        self.활성화 = 활성화\n",
    "        \n",
    "    def forward(self, X):\n",
    "        z = np.dot(X, self.W) + self.b\n",
    "        return self.활성화(z)\n",
    "    \n",
    "    \n",
    "class FeedForwardNet:\n",
    "    def __init__(self, loss_func):\n",
    "        self.layers = []\n",
    "        self.loss_func = loss_func\n",
    "        \n",
    "    def add(self, layer):\n",
    "        self.layers.append(layer)\n",
    "        \n",
    "    def predict(self, X):\n",
    "        layer_output = X\n",
    "        for layer in self.layers:\n",
    "            layer_output = layer.forward(layer_output)\n",
    "        y = layer_output\n",
    "        return y\n",
    "    \n",
    "    def compute_loss(self, X, y):\n",
    "        y_pred = self.predict(X)\n",
    "        loss = self.loss_func(y_pred, y)\n",
    "        return loss\n",
    "    \n",
    "    def fit(self, X, y, 배치크기, 학습률, 학습횟수):\n",
    "        loss_history = []\n",
    "        for i in range(학습횟수):\n",
    "            # 1. 미니배치\n",
    "            샘플수 = len(X)\n",
    "            배치색인 = np.random.choice(샘플수, 배치크기)\n",
    "            X_batch = X[배치색인]\n",
    "            y_batch = y[배치색인]\n",
    "            # 2. 기울기 산출\n",
    "            f = lambda W: self.compute_loss(X_batch, y_batch)\n",
    "            기울기 = []\n",
    "            for layer in self.layers:\n",
    "                dW = numerical_gradient_2D(f, layer.W)\n",
    "                db = numerical_gradient_2D(f, layer.b)\n",
    "                기울기.append((dW, db))\n",
    "            # 3. 매개변수 갱신 (경사하강법)\n",
    "            for layer, (dW, db) in zip(self.layers, 기울기):\n",
    "                layer.W -= dW * 학습률\n",
    "                layer.b -= db * 학습률\n",
    "\n",
    "            # 손실확인\n",
    "            loss = self.compute_loss(X_batch, y_batch)\n",
    "            loss_history.append(loss)\n",
    "            print('[학습 {}] Loss: {}'.format(i, loss))\n",
    "        \n",
    "        return loss_history"
   ]
  },
  {
   "cell_type": "code",
   "execution_count": 41,
   "metadata": {},
   "outputs": [],
   "source": [
    "def softmax(a):\n",
    "    c = np.max(a)\n",
    "    exp_a = np.exp(a - c)\n",
    "    y = exp_a / np.sum(exp_a)\n",
    "    return y"
   ]
  },
  {
   "cell_type": "code",
   "execution_count": 42,
   "metadata": {},
   "outputs": [],
   "source": [
    "A = np.array([[0.3, 2.9, 4.0],\n",
    "              [0.3, 2.9, 4.0]])"
   ]
  },
  {
   "cell_type": "markdown",
   "metadata": {},
   "source": [
    "벡터 단위 함수를 특정 축 방향으로 적용"
   ]
  },
  {
   "cell_type": "code",
   "execution_count": 43,
   "metadata": {},
   "outputs": [],
   "source": [
    "Y = np.apply_along_axis(arr=A, axis=1, func1d=softmax)"
   ]
  },
  {
   "cell_type": "code",
   "execution_count": 44,
   "metadata": {},
   "outputs": [],
   "source": [
    "def softmax_batch(A):\n",
    "    return np.apply_along_axis(arr=A, axis=1, func1d=softmax)"
   ]
  },
  {
   "cell_type": "code",
   "execution_count": 45,
   "metadata": {},
   "outputs": [
    {
     "data": {
      "text/plain": [
       "array([[0.01821127, 0.24519181, 0.73659691],\n",
       "       [0.01821127, 0.24519181, 0.73659691]])"
      ]
     },
     "execution_count": 45,
     "metadata": {},
     "output_type": "execute_result"
    }
   ],
   "source": [
    "softmax_batch(A)"
   ]
  },
  {
   "cell_type": "code",
   "execution_count": 46,
   "metadata": {},
   "outputs": [],
   "source": [
    "def sigmoid(x):\n",
    "    return 1 / (1 + np.exp(-x))"
   ]
  },
  {
   "cell_type": "code",
   "execution_count": 47,
   "metadata": {},
   "outputs": [],
   "source": [
    "model = FeedForwardNet(loss_func=cross_entropy_error_batch)\n",
    "\n",
    "model.add(Layer(784, 50, sigmoid))\n",
    "model.add(Layer(50, 100, sigmoid))\n",
    "model.add(Layer(100, 10, softmax_batch))"
   ]
  },
  {
   "cell_type": "code",
   "execution_count": 48,
   "metadata": {},
   "outputs": [],
   "source": [
    "from deepy.dataset import mnist"
   ]
  },
  {
   "cell_type": "code",
   "execution_count": 49,
   "metadata": {},
   "outputs": [],
   "source": [
    "(X_train, Y_train), (X_test, Y_test) = \\\n",
    "    mnist.load_mnist(flatten=True, normalize=True, \n",
    "                     one_hot_label=True)"
   ]
  },
  {
   "cell_type": "code",
   "execution_count": null,
   "metadata": {},
   "outputs": [
    {
     "name": "stdout",
     "output_type": "stream",
     "text": [
      "[학습 0] Loss: 9.286589719591184\n",
      "[학습 1] Loss: 9.365097255067559\n",
      "[학습 2] Loss: 8.669561717048758\n",
      "[학습 3] Loss: 8.01364728258301\n",
      "[학습 4] Loss: 8.391702646044372\n",
      "[학습 5] Loss: 8.791086461403278\n",
      "[학습 6] Loss: 8.439268501182815\n",
      "[학습 7] Loss: 7.497012223417414\n",
      "[학습 8] Loss: 8.137762091698722\n",
      "[학습 9] Loss: 7.949024266888086\n",
      "[학습 10] Loss: 7.615468961038353\n",
      "[학습 11] Loss: 8.022465866325451\n",
      "[학습 12] Loss: 7.764079580624026\n",
      "[학습 13] Loss: 7.077625508197887\n",
      "[학습 14] Loss: 7.390298897707661\n",
      "[학습 15] Loss: 6.791447132857127\n",
      "[학습 16] Loss: 7.211194398785154\n",
      "[학습 17] Loss: 7.442107321491299\n",
      "[학습 18] Loss: 7.5336518230197385\n",
      "[학습 19] Loss: 7.3489908461526285\n",
      "[학습 20] Loss: 7.513210655182093\n",
      "[학습 21] Loss: 6.208748371640408\n",
      "[학습 22] Loss: 6.460351484023128\n",
      "[학습 23] Loss: 7.192968133276635\n",
      "[학습 24] Loss: 7.101588179318582\n",
      "[학습 25] Loss: 6.378022611117241\n",
      "[학습 26] Loss: 7.322663192993771\n",
      "[학습 27] Loss: 6.955304018561619\n",
      "[학습 28] Loss: 5.954690002629218\n",
      "[학습 29] Loss: 6.890882500591849\n",
      "[학습 30] Loss: 5.32318859356703\n",
      "[학습 31] Loss: 6.684984983837046\n"
     ]
    }
   ],
   "source": [
    "loss_history = model.fit(X_train, Y_train, \n",
    "                         배치크기=100, 학습횟수=600*10, \n",
    "                         학습률=0.01)"
   ]
  },
  {
   "cell_type": "markdown",
   "metadata": {},
   "source": [
    "## 1986 오차역전파"
   ]
  },
  {
   "cell_type": "code",
   "execution_count": null,
   "metadata": {},
   "outputs": [],
   "source": [
    "class 곱하기:\n",
    "    def __init__(self):\n",
    "        self.x = None\n",
    "        self.y = None\n",
    "        \n",
    "    def forward(self, x, y):\n",
    "        self.x = x\n",
    "        self.y = y\n",
    "        return x * y\n",
    "    \n",
    "    def backward(self, dout):\n",
    "        dx = dout * self.y\n",
    "        dy = dout * self.x\n",
    "        return dx, dy"
   ]
  },
  {
   "cell_type": "code",
   "execution_count": null,
   "metadata": {},
   "outputs": [],
   "source": [
    "사과단가, 사과개수, 부가세 = 100, 2, 1.1"
   ]
  },
  {
   "cell_type": "code",
   "execution_count": null,
   "metadata": {},
   "outputs": [],
   "source": [
    "곱1 = 곱하기()\n",
    "곱2 = 곱하기()"
   ]
  },
  {
   "cell_type": "markdown",
   "metadata": {},
   "source": [
    "순전파"
   ]
  },
  {
   "cell_type": "code",
   "execution_count": null,
   "metadata": {},
   "outputs": [],
   "source": [
    "사과가격 = 곱1.forward(사과단가, 사과개수)\n",
    "가격 = 곱2.forward(사과가격, 부가세)\n",
    "가격"
   ]
  },
  {
   "cell_type": "markdown",
   "metadata": {},
   "source": [
    "역전파"
   ]
  },
  {
   "cell_type": "code",
   "execution_count": null,
   "metadata": {},
   "outputs": [],
   "source": [
    "d사과가격, d부가세 = 곱2.backward(dout=1)\n",
    "d사과단가, d사과개수 = 곱1.backward(dout=d사과가격)\n",
    "d사과단가, d사과개수"
   ]
  },
  {
   "cell_type": "code",
   "execution_count": null,
   "metadata": {},
   "outputs": [],
   "source": [
    "class ReLu:\n",
    "    def __init__(self):\n",
    "        self.mask = None\n",
    "        \n",
    "    def forward(self, x):\n",
    "        self.mask = x > 0\n",
    "        return np.where(self.mask, x, 0)\n",
    "    \n",
    "    def backward(self, dout):\n",
    "        return np.where(self.mask, 1, 0)"
   ]
  },
  {
   "cell_type": "code",
   "execution_count": null,
   "metadata": {},
   "outputs": [],
   "source": []
  },
  {
   "cell_type": "code",
   "execution_count": null,
   "metadata": {},
   "outputs": [],
   "source": []
  },
  {
   "cell_type": "code",
   "execution_count": null,
   "metadata": {},
   "outputs": [],
   "source": []
  },
  {
   "cell_type": "code",
   "execution_count": null,
   "metadata": {},
   "outputs": [],
   "source": []
  },
  {
   "cell_type": "code",
   "execution_count": null,
   "metadata": {},
   "outputs": [],
   "source": []
  },
  {
   "cell_type": "code",
   "execution_count": null,
   "metadata": {},
   "outputs": [],
   "source": []
  },
  {
   "cell_type": "code",
   "execution_count": null,
   "metadata": {},
   "outputs": [],
   "source": []
  },
  {
   "cell_type": "code",
   "execution_count": null,
   "metadata": {},
   "outputs": [],
   "source": []
  },
  {
   "cell_type": "code",
   "execution_count": null,
   "metadata": {},
   "outputs": [],
   "source": []
  },
  {
   "cell_type": "code",
   "execution_count": null,
   "metadata": {},
   "outputs": [],
   "source": []
  },
  {
   "cell_type": "code",
   "execution_count": null,
   "metadata": {},
   "outputs": [],
   "source": []
  },
  {
   "cell_type": "code",
   "execution_count": null,
   "metadata": {},
   "outputs": [],
   "source": []
  },
  {
   "cell_type": "code",
   "execution_count": null,
   "metadata": {},
   "outputs": [],
   "source": []
  },
  {
   "cell_type": "code",
   "execution_count": null,
   "metadata": {},
   "outputs": [],
   "source": []
  },
  {
   "cell_type": "code",
   "execution_count": null,
   "metadata": {},
   "outputs": [],
   "source": []
  },
  {
   "cell_type": "code",
   "execution_count": null,
   "metadata": {},
   "outputs": [],
   "source": []
  },
  {
   "cell_type": "code",
   "execution_count": null,
   "metadata": {},
   "outputs": [],
   "source": []
  },
  {
   "cell_type": "code",
   "execution_count": null,
   "metadata": {},
   "outputs": [],
   "source": []
  },
  {
   "cell_type": "code",
   "execution_count": null,
   "metadata": {},
   "outputs": [],
   "source": []
  },
  {
   "cell_type": "code",
   "execution_count": null,
   "metadata": {},
   "outputs": [],
   "source": []
  }
 ],
 "metadata": {
  "kernelspec": {
   "display_name": "Python 3",
   "language": "python",
   "name": "python3"
  },
  "language_info": {
   "codemirror_mode": {
    "name": "ipython",
    "version": 3
   },
   "file_extension": ".py",
   "mimetype": "text/x-python",
   "name": "python",
   "nbconvert_exporter": "python",
   "pygments_lexer": "ipython3",
   "version": "3.6.4"
  }
 },
 "nbformat": 4,
 "nbformat_minor": 2
}

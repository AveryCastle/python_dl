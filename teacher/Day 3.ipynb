{
 "cells": [
  {
   "cell_type": "code",
   "execution_count": 2,
   "metadata": {
    "collapsed": true
   },
   "outputs": [],
   "source": [
    "import numpy as np\n",
    "import pandas as pd\n",
    "import matplotlib.pyplot as plt\n",
    "from sklearn.model_selection import train_test_split\n",
    "\n",
    "%matplotlib inline"
   ]
  },
  {
   "cell_type": "code",
   "execution_count": 3,
   "metadata": {
    "collapsed": true
   },
   "outputs": [],
   "source": [
    "from deepy.dataset import mnist"
   ]
  },
  {
   "cell_type": "code",
   "execution_count": 4,
   "metadata": {
    "collapsed": true
   },
   "outputs": [],
   "source": [
    "(X_train, y_train), (X_test, y_test) = \\\n",
    "    mnist.load_mnist(flatten=False, normalize=False)"
   ]
  },
  {
   "cell_type": "code",
   "execution_count": 6,
   "metadata": {},
   "outputs": [],
   "source": [
    "X_train = X_train.reshape(-1, 1*28*28)\n",
    "X_test = X_test.reshape(-1, 1*28*28)"
   ]
  },
  {
   "cell_type": "code",
   "execution_count": 9,
   "metadata": {},
   "outputs": [],
   "source": [
    "X_train = X_train.astype('float') / 255.0\n",
    "X_test = X_test.astype('float') / 255.0"
   ]
  },
  {
   "cell_type": "markdown",
   "metadata": {},
   "source": [
    "데이터에 대해 처음으로 적용할만한 모델은 선형모델입니다."
   ]
  },
  {
   "cell_type": "code",
   "execution_count": 10,
   "metadata": {
    "collapsed": true
   },
   "outputs": [],
   "source": [
    "from sklearn.linear_model import SGDClassifier"
   ]
  },
  {
   "cell_type": "markdown",
   "metadata": {},
   "source": [
    "대용량 고차원 데이터셋에 대한 로지스틱 회귀"
   ]
  },
  {
   "cell_type": "code",
   "execution_count": 12,
   "metadata": {},
   "outputs": [],
   "source": [
    "logreg = SGDClassifier(loss='log', tol=1e-4).fit(\n",
    "    X_train, y_train)"
   ]
  },
  {
   "cell_type": "code",
   "execution_count": 15,
   "metadata": {},
   "outputs": [
    {
     "data": {
      "text/plain": [
       "(0.92048333333333332, 0.91559999999999997)"
      ]
     },
     "execution_count": 15,
     "metadata": {},
     "output_type": "execute_result"
    }
   ],
   "source": [
    "logreg.score(X_train, y_train), logreg.score(X_test, y_test)"
   ]
  },
  {
   "cell_type": "code",
   "execution_count": 16,
   "metadata": {
    "collapsed": true
   },
   "outputs": [],
   "source": [
    "from sklearn.ensemble import RandomForestClassifier"
   ]
  },
  {
   "cell_type": "code",
   "execution_count": 19,
   "metadata": {},
   "outputs": [
    {
     "data": {
      "text/plain": [
       "(0.99934999999999996, 0.94999999999999996)"
      ]
     },
     "execution_count": 19,
     "metadata": {},
     "output_type": "execute_result"
    }
   ],
   "source": [
    "forest = RandomForestClassifier().fit(X_train, y_train)\n",
    "forest.score(X_train, y_train), forest.score(X_test, y_test)"
   ]
  },
  {
   "cell_type": "markdown",
   "metadata": {},
   "source": [
    "# 손실함수\n",
    "\n"
   ]
  },
  {
   "cell_type": "code",
   "execution_count": 29,
   "metadata": {
    "collapsed": true
   },
   "outputs": [],
   "source": [
    "def 평균제곱오차(y_pred, y):\n",
    "    \"\"\"회귀용 손실함수\"\"\"\n",
    "    return 0.5 * np.sum((y-y_pred)**2)"
   ]
  },
  {
   "cell_type": "code",
   "execution_count": 21,
   "metadata": {
    "collapsed": true
   },
   "outputs": [],
   "source": [
    "mse = mean_squared_error = 평균제곱오차"
   ]
  },
  {
   "cell_type": "code",
   "execution_count": 28,
   "metadata": {},
   "outputs": [
    {
     "data": {
      "text/plain": [
       "(0.0, 0.0049999999999999871, 0.24499999999999997)"
      ]
     },
     "execution_count": 28,
     "metadata": {},
     "output_type": "execute_result"
    }
   ],
   "source": [
    "y = 1.2\n",
    "mse(1.2, y), mse(1.1, y), mse(0.5, y)"
   ]
  },
  {
   "cell_type": "code",
   "execution_count": 96,
   "metadata": {
    "collapsed": true
   },
   "outputs": [],
   "source": [
    "def cross_entroy_error(y_pred, y):\n",
    "    \"\"\"분류용 손실함수\"\"\"\n",
    "    delta = 1e-7 # 아주 작은 값.     \n",
    "    return -np.sum(y * np.log(y_pred + delta))\n",
    "\n",
    "def cross_entropy_error_batch(y_pred, y):\n",
    "    batch_size = len(y)\n",
    "    cse = cross_entroy_error(y_pred, y) / batch_size\n",
    "    return cse"
   ]
  },
  {
   "cell_type": "code",
   "execution_count": 35,
   "metadata": {
    "collapsed": true
   },
   "outputs": [],
   "source": [
    "y = np.array([0, 1, 0])\n",
    "y_pred1 = np.array([0.1, 0.7, 0.2])\n",
    "y_pred2 = np.array([0.7, 0.1, 0.2])\n",
    "y_pred3 = np.array([0.2, 0.6, 0.2])"
   ]
  },
  {
   "cell_type": "code",
   "execution_count": 36,
   "metadata": {},
   "outputs": [
    {
     "data": {
      "text/plain": [
       "0.35667480108159988"
      ]
     },
     "execution_count": 36,
     "metadata": {},
     "output_type": "execute_result"
    }
   ],
   "source": [
    "cross_entroy_error(y_pred1, y)"
   ]
  },
  {
   "cell_type": "code",
   "execution_count": 37,
   "metadata": {},
   "outputs": [
    {
     "data": {
      "text/plain": [
       "2.3025840929945458"
      ]
     },
     "execution_count": 37,
     "metadata": {},
     "output_type": "execute_result"
    }
   ],
   "source": [
    "cross_entroy_error(y_pred2, y)"
   ]
  },
  {
   "cell_type": "code",
   "execution_count": 38,
   "metadata": {},
   "outputs": [
    {
     "data": {
      "text/plain": [
       "0.51082545709933802"
      ]
     },
     "execution_count": 38,
     "metadata": {},
     "output_type": "execute_result"
    }
   ],
   "source": [
    "cross_entroy_error(y_pred3, y)"
   ]
  },
  {
   "cell_type": "markdown",
   "metadata": {},
   "source": [
    "### 손실함수 최적화"
   ]
  },
  {
   "cell_type": "markdown",
   "metadata": {},
   "source": [
    "$$ f(x) = x^2 $$"
   ]
  },
  {
   "cell_type": "code",
   "execution_count": 39,
   "metadata": {
    "collapsed": true
   },
   "outputs": [],
   "source": [
    "f = lambda x: x**2"
   ]
  },
  {
   "cell_type": "code",
   "execution_count": 44,
   "metadata": {
    "collapsed": true
   },
   "outputs": [],
   "source": [
    "dydx = lambda x: 2*x"
   ]
  },
  {
   "cell_type": "code",
   "execution_count": 46,
   "metadata": {
    "collapsed": true
   },
   "outputs": [],
   "source": [
    "def 수치미분(f, x):\n",
    "    h = 1e-4\n",
    "    return (f(x+h)-f(x-h)) / (2*h)\n",
    "\n",
    "numerical_diff = 수치미분"
   ]
  },
  {
   "cell_type": "code",
   "execution_count": 40,
   "metadata": {
    "collapsed": true
   },
   "outputs": [],
   "source": [
    "x = np.linspace(-5., 5., 100)"
   ]
  },
  {
   "cell_type": "code",
   "execution_count": 47,
   "metadata": {},
   "outputs": [
    {
     "data": {
      "text/plain": [
       "[<matplotlib.lines.Line2D at 0xcfee0b8>]"
      ]
     },
     "execution_count": 47,
     "metadata": {},
     "output_type": "execute_result"
    },
    {
     "data": {
      "image/png": "[encoded data removed]",
      "text/plain": [
       "<matplotlib.figure.Figure at 0xcfb4908>"
      ]
     },
     "metadata": {},
     "output_type": "display_data"
    }
   ],
   "source": [
    "plt.plot(x, f(x))\n",
    "plt.plot(x, dydx(x), 'g')\n",
    "plt.plot(x, numerical_diff(f, x), 'k--')\n",
    "plt.plot(0, 0, 'ro')"
   ]
  },
  {
   "cell_type": "markdown",
   "metadata": {},
   "source": [
    "$$ f(x_0, x_1) = x_0^2 + x_1^2 $$"
   ]
  },
  {
   "cell_type": "code",
   "execution_count": 48,
   "metadata": {
    "collapsed": true
   },
   "outputs": [],
   "source": [
    "f2 = lambda x: np.sum(x**2, 0)"
   ]
  },
  {
   "cell_type": "code",
   "execution_count": 49,
   "metadata": {
    "collapsed": true
   },
   "outputs": [],
   "source": [
    "x0 = np.arange(-5, 5, 0.25)\n",
    "x1 = np.arange(-5, 5, 0.25)"
   ]
  },
  {
   "cell_type": "markdown",
   "metadata": {},
   "source": [
    "3차원 좌표쌍 생성"
   ]
  },
  {
   "cell_type": "code",
   "execution_count": 50,
   "metadata": {
    "collapsed": true
   },
   "outputs": [],
   "source": [
    "X0, X1 = np.meshgrid(x0, x1)"
   ]
  },
  {
   "cell_type": "code",
   "execution_count": 51,
   "metadata": {
    "collapsed": true
   },
   "outputs": [],
   "source": [
    "from mpl_toolkits.mplot3d import Axes3D"
   ]
  },
  {
   "cell_type": "code",
   "execution_count": 52,
   "metadata": {},
   "outputs": [
    {
     "data": {
      "text/plain": [
       "<mpl_toolkits.mplot3d.art3d.Poly3DCollection at 0xd9a9978>"
      ]
     },
     "execution_count": 52,
     "metadata": {},
     "output_type": "execute_result"
    },
    {
     "data": {
      "image/png": "[encoded data removed]",
      "text/plain": [
       "<matplotlib.figure.Figure at 0xd07e7f0>"
      ]
     },
     "metadata": {},
     "output_type": "display_data"
    }
   ],
   "source": [
    "fig = plt.figure() # 그래프 틀 생성\n",
    "ax = Axes3D(fig) # 3차원 그래프 틀로 설정\n",
    "ax.plot_surface(X0, X1, f2(np.array([X0, X1])))"
   ]
  },
  {
   "cell_type": "markdown",
   "metadata": {},
   "source": [
    "### 기울기\n",
    "\n",
    "Gradient"
   ]
  },
  {
   "cell_type": "code",
   "execution_count": 53,
   "metadata": {
    "collapsed": true
   },
   "outputs": [],
   "source": [
    "def 경사산출(f, x):\n",
    "    h = 1e-4\n",
    "    경사 = np.zeros_like(x)\n",
    "    \n",
    "    # 각 x 축에 대해 경사 산출(미분 수행)\n",
    "    for i, xi in enumerate(x):\n",
    "        # f(x+h)\n",
    "        x[i] = xi + h        \n",
    "        fxh1 = f(x)\n",
    "        # f(x-h)\n",
    "        x[i] = xi - h\n",
    "        fxh2 = f(x)\n",
    "        \n",
    "        경사[i] = (fxh1 - fxh2) / (2*h)\n",
    "        # 원래 값 복원\n",
    "        x[i] = xi\n",
    "        \n",
    "    return 경사\n",
    "\n",
    "numerical_gradient = 경사산출"
   ]
  },
  {
   "cell_type": "code",
   "execution_count": 55,
   "metadata": {},
   "outputs": [
    {
     "data": {
      "text/plain": [
       "array([ 6.,  8.])"
      ]
     },
     "execution_count": 55,
     "metadata": {},
     "output_type": "execute_result"
    }
   ],
   "source": [
    "numerical_gradient(f2, np.array([3.0, 4.0]))"
   ]
  },
  {
   "cell_type": "code",
   "execution_count": 56,
   "metadata": {},
   "outputs": [
    {
     "data": {
      "text/plain": [
       "array([ 0.,  4.])"
      ]
     },
     "execution_count": 56,
     "metadata": {},
     "output_type": "execute_result"
    }
   ],
   "source": [
    "numerical_gradient(f2, np.array([0.0, 2.0]))"
   ]
  },
  {
   "cell_type": "code",
   "execution_count": 57,
   "metadata": {},
   "outputs": [
    {
     "data": {
      "text/plain": [
       "array([ 6.,  0.])"
      ]
     },
     "execution_count": 57,
     "metadata": {},
     "output_type": "execute_result"
    }
   ],
   "source": [
    "numerical_gradient(f2, np.array([3.0, 0.0]))"
   ]
  },
  {
   "cell_type": "markdown",
   "metadata": {},
   "source": [
    "### 경사 하강법\n",
    "\n",
    "Gradient Descent (GD)"
   ]
  },
  {
   "cell_type": "code",
   "execution_count": 61,
   "metadata": {},
   "outputs": [],
   "source": [
    "def gradient_descent(f, 출발점, 학습률=0.01, 반복횟수=100):\n",
    "    x = 출발점.copy()\n",
    "    \n",
    "    x_history = [x.copy()]\n",
    "    for i in range(반복횟수):\n",
    "        경사 = numerical_gradient(f, x)\n",
    "        # 하강\n",
    "        x -= 경사 * 학습률\n",
    "        x_history.append(x.copy())\n",
    "    return np.array(x_history)"
   ]
  },
  {
   "cell_type": "code",
   "execution_count": 66,
   "metadata": {
    "collapsed": true
   },
   "outputs": [],
   "source": [
    "출발점 = np.array([-3., 4.])\n",
    "x_history = gradient_descent(f2, 출발점, 학습률=0.1)"
   ]
  },
  {
   "cell_type": "code",
   "execution_count": 67,
   "metadata": {
    "collapsed": true
   },
   "outputs": [
    {
     "data": {
      "text/plain": [
       "[<matplotlib.lines.Line2D at 0xee89160>]"
      ]
     },
     "execution_count": 67,
     "metadata": {},
     "output_type": "execute_result"
    },
    {
     "data": {
      "image/png": "[encoded data removed]",
      "text/plain": [
       "<matplotlib.figure.Figure at 0xee0f0b8>"
      ]
     },
     "metadata": {},
     "output_type": "display_data"
    }
   ],
   "source": [
    "plt.plot(x_history[:, 0], x_history[:, 1], 'ro')\n",
    "# 보조선\n",
    "plt.plot([-5, 5], [0, 0], 'b--')\n",
    "plt.plot([0, 0], [-5, 5], 'b--')"
   ]
  },
  {
   "cell_type": "code",
   "execution_count": 68,
   "metadata": {},
   "outputs": [
    {
     "data": {
      "text/plain": [
       "array([ -6.11110793e-10,   8.14814391e-10])"
      ]
     },
     "execution_count": 68,
     "metadata": {},
     "output_type": "execute_result"
    }
   ],
   "source": [
    "x_opt = x_history[-1]\n",
    "x_opt"
   ]
  },
  {
   "cell_type": "markdown",
   "metadata": {},
   "source": [
    "## 신경망 학습"
   ]
  },
  {
   "cell_type": "code",
   "execution_count": 97,
   "metadata": {
    "collapsed": true
   },
   "outputs": [],
   "source": [
    "def numerical_gradient_2D(f, X):\n",
    "    if X.ndim == 1:\n",
    "        return numerical_gradient(f, X)\n",
    "    \n",
    "    # 2차원 행렬인 경우\n",
    "    grad = np.zeros_like(X)\n",
    "    for i,x in enumerate(X):\n",
    "        grad[i] = numerical_gradient(f, x)\n",
    "        \n",
    "    return grad\n",
    "\n",
    "\n",
    "# %load neuralnet.py\n",
    "import numpy as np\n",
    "\n",
    "class Layer:\n",
    "    def __init__(self, 입력수, 출력수, 활성화):\n",
    "        self.W = np.random.randn(입력수, 출력수)\n",
    "        self.b = np.random.randn(출력수)\n",
    "        self.활성화 = 활성화\n",
    "        \n",
    "    def forward(self, X):\n",
    "        z = np.dot(X, self.W) + self.b\n",
    "        return self.활성화(z)\n",
    "    \n",
    "    \n",
    "class FeedForwardNet:\n",
    "    def __init__(self, loss_func):\n",
    "        self.layers = []\n",
    "        self.loss_func = loss_func\n",
    "        \n",
    "    def add(self, layer):\n",
    "        self.layers.append(layer)\n",
    "        \n",
    "    def predict(self, X):\n",
    "        layer_output = X\n",
    "        for layer in self.layers:\n",
    "            layer_output = layer.forward(layer_output)\n",
    "        y = layer_output\n",
    "        return y\n",
    "    \n",
    "    def compute_loss(self, X, y):\n",
    "        y_pred = self.predict(X)\n",
    "        loss = self.loss_func(y_pred, y)\n",
    "        return loss\n",
    "    \n",
    "    def fit(self, X, y, 배치크기, 학습률, 학습횟수):\n",
    "        loss_history = []\n",
    "        for i in range(학습횟수):\n",
    "            # 1. 미니배치\n",
    "            샘플수 = len(X)\n",
    "            배치색인 = np.random.choice(샘플수, 배치크기)\n",
    "            X_batch = X[배치색인]\n",
    "            y_batch = y[배치색인]\n",
    "            # 2. 기울기 산출\n",
    "            f = lambda W: self.compute_loss(X_batch, y_batch)\n",
    "            기울기 = []\n",
    "            for layer in self.layers:\n",
    "                dW = numerical_gradient_2D(f, layer.W)\n",
    "                db = numerical_gradient_2D(f, layer.b)\n",
    "                기울기.append((dW, db))\n",
    "            # 3. 매개변수 갱신 (경사하강법)\n",
    "            for layer, (dW, db) in zip(self.layers, 기울기):\n",
    "                layer.W -= dW * 학습률\n",
    "                layer.b -= db * 학습률\n",
    "\n",
    "            # 손실확인\n",
    "            loss = self.compute_loss(X_batch, y_batch)\n",
    "            loss_history.append(loss)\n",
    "            print('[학습 {}] Loss: {}'.format(i, loss))\n",
    "        \n",
    "        return loss_history"
   ]
  },
  {
   "cell_type": "code",
   "execution_count": 98,
   "metadata": {
    "collapsed": true
   },
   "outputs": [],
   "source": [
    "def softmax(a):\n",
    "    c = np.max(a)\n",
    "    exp_a = np.exp(a - c)\n",
    "    y = exp_a / np.sum(exp_a)\n",
    "    return y"
   ]
  },
  {
   "cell_type": "code",
   "execution_count": 99,
   "metadata": {
    "collapsed": true
   },
   "outputs": [],
   "source": [
    "A = np.array([[0.3, 2.9, 4.0],\n",
    "              [0.3, 2.9, 4.0]])"
   ]
  },
  {
   "cell_type": "markdown",
   "metadata": {},
   "source": [
    "벡터 단위 함수를 특정 축 방향으로 적용"
   ]
  },
  {
   "cell_type": "code",
   "execution_count": 100,
   "metadata": {},
   "outputs": [],
   "source": [
    "Y = np.apply_along_axis(arr=A, axis=1, func1d=softmax)"
   ]
  },
  {
   "cell_type": "code",
   "execution_count": 101,
   "metadata": {
    "collapsed": true
   },
   "outputs": [],
   "source": [
    "def softmax_batch(A):\n",
    "    return np.apply_along_axis(arr=A, axis=1, func1d=softmax)"
   ]
  },
  {
   "cell_type": "code",
   "execution_count": 102,
   "metadata": {},
   "outputs": [
    {
     "data": {
      "text/plain": [
       "array([[ 0.01821127,  0.24519181,  0.73659691],\n",
       "       [ 0.01821127,  0.24519181,  0.73659691]])"
      ]
     },
     "execution_count": 102,
     "metadata": {},
     "output_type": "execute_result"
    }
   ],
   "source": [
    "softmax_batch(A)"
   ]
  },
  {
   "cell_type": "code",
   "execution_count": 103,
   "metadata": {
    "collapsed": true
   },
   "outputs": [],
   "source": [
    "def sigmoid(x):\n",
    "    return 1 / (1 + np.exp(-x))"
   ]
  },
  {
   "cell_type": "code",
   "execution_count": 114,
   "metadata": {},
   "outputs": [],
   "source": [
    "model = FeedForwardNet(loss_func=cross_entropy_error_batch)\n",
    "\n",
    "model.add(Layer(784, 50, sigmoid))\n",
    "model.add(Layer(50, 100, sigmoid))\n",
    "model.add(Layer(100, 10, softmax_batch))"
   ]
  },
  {
   "cell_type": "code",
   "execution_count": 115,
   "metadata": {
    "collapsed": true
   },
   "outputs": [],
   "source": [
    "from deepy.dataset import mnist"
   ]
  },
  {
   "cell_type": "code",
   "execution_count": 116,
   "metadata": {
    "collapsed": true
   },
   "outputs": [],
   "source": [
    "(X_train, Y_train), (X_test, Y_test) = \\\n",
    "    mnist.load_mnist(flatten=True, normalize=True, \n",
    "                     one_hot_label=True)"
   ]
  },
  {
   "cell_type": "code",
   "execution_count": 117,
   "metadata": {
    "collapsed": true
   },
   "outputs": [
    {
     "name": "stdout",
     "output_type": "stream",
     "text": [
      "[학습 0] Loss: 7.531459914763613\n",
      "[학습 1] Loss: 6.8640430094012315\n",
      "[학습 2] Loss: 7.020298412023399\n",
      "[학습 3] Loss: 7.650192910811955\n",
      "[학습 4] Loss: 7.253063137776539\n",
      "[학습 5] Loss: 6.554209624206394\n",
      "[학습 6] Loss: 6.814860501089625\n",
      "[학습 7] Loss: 6.515421098999724\n",
      "[학습 8] Loss: 7.361082264370039\n",
      "[학습 9] Loss: 6.626977262691463\n",
      "[학습 10] Loss: 6.691670566110798\n",
      "[학습 11] Loss: 6.160776179907025\n",
      "[학습 12] Loss: 6.6028051956922305\n",
      "[학습 13] Loss: 7.277227762029076\n",
      "[학습 14] Loss: 6.811629229142906\n",
      "[학습 15] Loss: 6.8831311342068275\n",
      "[학습 16] Loss: 6.454301572475214\n",
      "[학습 17] Loss: 6.505832136754886\n",
      "[학습 18] Loss: 6.414809052502696\n",
      "[학습 19] Loss: 6.133411747082041\n",
      "[학습 20] Loss: 6.570664757036932\n",
      "[학습 21] Loss: 5.664428275242751\n",
      "[학습 22] Loss: 5.921264493553531\n",
      "[학습 23] Loss: 6.07344567167247\n",
      "[학습 24] Loss: 6.250122889177982\n",
      "[학습 25] Loss: 6.52427398682263\n",
      "[학습 26] Loss: 6.492203517358647\n",
      "[학습 27] Loss: 6.143988049408632\n",
      "[학습 28] Loss: 5.959344253120928\n",
      "[학습 29] Loss: 6.331279123038699\n",
      "[학습 30] Loss: 5.2747316446652395\n",
      "[학습 31] Loss: 5.796789745566486\n",
      "[학습 32] Loss: 5.723759933104166\n",
      "[학습 33] Loss: 5.964807656046968\n",
      "[학습 34] Loss: 5.742560231635215\n",
      "[학습 35] Loss: 5.377831838266637\n",
      "[학습 36] Loss: 5.599849675827851\n",
      "[학습 37] Loss: 5.158463295806544\n",
      "[학습 38] Loss: 5.447783299480227\n",
      "[학습 39] Loss: 5.670978540599807\n",
      "[학습 40] Loss: 4.9472820758769585\n",
      "[학습 41] Loss: 5.442782295847362\n",
      "[학습 42] Loss: 5.875179080519095\n",
      "[학습 43] Loss: 5.315472491585787\n",
      "[학습 44] Loss: 5.280997680144256\n",
      "[학습 45] Loss: 5.65622269350356\n",
      "[학습 46] Loss: 5.3090986265902576\n",
      "[학습 47] Loss: 5.557939254558728\n",
      "[학습 48] Loss: 4.91565624702045\n",
      "[학습 49] Loss: 4.851676689766269\n",
      "[학습 50] Loss: 5.26142765003769\n",
      "[학습 51] Loss: 5.337289566404609\n",
      "[학습 52] Loss: 5.22430280662674\n",
      "[학습 53] Loss: 5.010944378318014\n",
      "[학습 54] Loss: 5.483141139619212\n",
      "[학습 55] Loss: 5.538885566337066\n",
      "[학습 56] Loss: 4.57931309314113\n",
      "[학습 57] Loss: 5.1468348090561\n",
      "[학습 58] Loss: 4.778444272598246\n",
      "[학습 59] Loss: 4.711350890248497\n",
      "[학습 60] Loss: 4.315551332915623\n",
      "[학습 61] Loss: 4.908931099934772\n",
      "[학습 62] Loss: 4.18697922635172\n",
      "[학습 63] Loss: 4.3265089030967\n",
      "[학습 64] Loss: 4.633922783738739\n",
      "[학습 65] Loss: 4.341010789404408\n",
      "[학습 66] Loss: 5.038244482849143\n",
      "[학습 67] Loss: 4.66975849088017\n",
      "[학습 68] Loss: 4.831496657319587\n",
      "[학습 69] Loss: 4.55929426319973\n",
      "[학습 70] Loss: 5.180977496600451\n",
      "[학습 71] Loss: 4.630094243719989\n",
      "[학습 72] Loss: 4.447606719979311\n",
      "[학습 73] Loss: 5.211372769372631\n",
      "[학습 74] Loss: 4.700827819082836\n",
      "[학습 75] Loss: 4.650804261209887\n",
      "[학습 76] Loss: 4.7370214755527025\n",
      "[학습 77] Loss: 4.538455501457445\n",
      "[학습 78] Loss: 4.545072561187528\n",
      "[학습 79] Loss: 4.270917287968393\n",
      "[학습 80] Loss: 5.1267291300205295\n",
      "[학습 81] Loss: 4.966102140440001\n",
      "[학습 82] Loss: 4.486800498437576\n",
      "[학습 83] Loss: 4.559916575911636\n",
      "[학습 84] Loss: 4.35927090292171\n",
      "[학습 85] Loss: 4.370570389114017\n",
      "[학습 86] Loss: 4.619645040557546\n",
      "[학습 87] Loss: 4.267572684102423\n",
      "[학습 88] Loss: 4.54134708189606\n",
      "[학습 89] Loss: 4.035967231123972\n",
      "[학습 90] Loss: 4.36248433366284\n",
      "[학습 91] Loss: 4.608540354433824\n",
      "[학습 92] Loss: 4.451548110001676\n",
      "[학습 93] Loss: 4.691767461655124\n",
      "[학습 94] Loss: 4.785632269212346\n",
      "[학습 95] Loss: 4.0369137497689875\n",
      "[학습 96] Loss: 4.370602472083678\n",
      "[학습 97] Loss: 4.814722261780912\n",
      "[학습 98] Loss: 4.271849352599714\n",
      "[학습 99] Loss: 4.237945942837265\n",
      "[학습 100] Loss: 4.525856901334465\n",
      "[학습 101] Loss: 4.298577772061716\n",
      "[학습 102] Loss: 4.542708623805712\n",
      "[학습 103] Loss: 4.355688573154029\n",
      "[학습 104] Loss: 4.314170675891733\n",
      "[학습 105] Loss: 4.086349129263276\n",
      "[학습 106] Loss: 4.3304461442952835\n",
      "[학습 107] Loss: 4.3349802346523845\n",
      "[학습 108] Loss: 4.579735395591051\n",
      "[학습 109] Loss: 4.256233940897301\n",
      "[학습 110] Loss: 3.7510303106493232\n",
      "[학습 111] Loss: 3.8918324301675056\n",
      "[학습 112] Loss: 3.9368287287339165\n",
      "[학습 113] Loss: 3.9799062767534066\n",
      "[학습 114] Loss: 4.039389475864\n",
      "[학습 115] Loss: 4.118324565792734\n",
      "[학습 116] Loss: 4.26320136468199\n",
      "[학습 117] Loss: 4.421645379282264\n",
      "[학습 118] Loss: 4.146907175241559\n",
      "[학습 119] Loss: 4.371586644537371\n",
      "[학습 120] Loss: 3.7747994646617453\n",
      "[학습 121] Loss: 3.946997647684782\n",
      "[학습 122] Loss: 3.903842979389952\n",
      "[학습 123] Loss: 3.85416245009123\n",
      "[학습 124] Loss: 4.094665758571039\n",
      "[학습 125] Loss: 3.9227539952282418\n",
      "[학습 126] Loss: 3.7076884558051897\n",
      "[학습 127] Loss: 3.8116740651284324\n",
      "[학습 128] Loss: 4.161007388971063\n",
      "[학습 129] Loss: 4.130011105094716\n",
      "[학습 130] Loss: 4.133946261031027\n",
      "[학습 131] Loss: 4.324626072094706\n",
      "[학습 132] Loss: 3.9665053453163965\n",
      "[학습 133] Loss: 3.9285405880046382\n",
      "[학습 134] Loss: 3.938634768522693\n",
      "[학습 135] Loss: 3.6163129979151023\n",
      "[학습 136] Loss: 4.280891700447584\n",
      "[학습 137] Loss: 3.7466407769811507\n",
      "[학습 138] Loss: 4.1277467102797285\n",
      "[학습 139] Loss: 3.2691072602653675\n",
      "[학습 140] Loss: 3.7364850632804463\n",
      "[학습 141] Loss: 3.801971779560899\n",
      "[학습 142] Loss: 3.8129991582834903\n",
      "[학습 143] Loss: 3.6575763939639376\n",
      "[학습 144] Loss: 3.9148811140602606\n",
      "[학습 145] Loss: 4.082383706721485\n",
      "[학습 146] Loss: 4.19978164461234\n",
      "[학습 147] Loss: 4.376926368852279\n",
      "[학습 148] Loss: 3.774366367330759\n",
      "[학습 149] Loss: 3.668248705728081\n",
      "[학습 150] Loss: 4.015527847524636\n",
      "[학습 151] Loss: 3.339888981738086\n",
      "[학습 152] Loss: 4.061114852988506\n",
      "[학습 153] Loss: 4.194776280424054\n",
      "[학습 154] Loss: 3.6205267614117123\n",
      "[학습 155] Loss: 3.603305336840973\n",
      "[학습 156] Loss: 3.907531867219809\n",
      "[학습 157] Loss: 3.9480896911381773\n",
      "[학습 158] Loss: 4.060191885830431\n",
      "[학습 159] Loss: 3.574783165592436\n",
      "[학습 160] Loss: 3.6752159234026034\n",
      "[학습 161] Loss: 3.620387598869212\n",
      "[학습 162] Loss: 3.9719083007299627\n",
      "[학습 163] Loss: 3.87879846850906\n",
      "[학습 164] Loss: 3.689643717111819\n",
      "[학습 165] Loss: 3.44622260550816\n",
      "[학습 166] Loss: 3.255235890786514\n",
      "[학습 167] Loss: 3.9234491317966116\n",
      "[학습 168] Loss: 3.576423504544646\n",
      "[학습 169] Loss: 4.272447476924862\n",
      "[학습 170] Loss: 4.0624732879550205\n",
      "[학습 171] Loss: 3.6117360732675134\n",
      "[학습 172] Loss: 3.1970118117904622\n",
      "[학습 173] Loss: 3.8354639799492976\n",
      "[학습 174] Loss: 3.6486073364764344\n",
      "[학습 175] Loss: 3.926845911403612\n",
      "[학습 176] Loss: 3.6316575339544586\n",
      "[학습 177] Loss: 3.6152816858087227\n",
      "[학습 178] Loss: 3.3893149777988403\n",
      "[학습 179] Loss: 3.6515160847670596\n",
      "[학습 180] Loss: 3.641566487640607\n",
      "[학습 181] Loss: 3.5937669120755174\n",
      "[학습 182] Loss: 3.501078866870858\n",
      "[학습 183] Loss: 3.4561472184663704\n",
      "[학습 184] Loss: 3.8683262753537524\n",
      "[학습 185] Loss: 3.7676383317875115\n",
      "[학습 186] Loss: 3.654901620914974\n",
      "[학습 187] Loss: 4.158860320160827\n",
      "[학습 188] Loss: 3.6233246909440924\n",
      "[학습 189] Loss: 3.525122402262534\n",
      "[학습 190] Loss: 3.9700132566099366\n",
      "[학습 191] Loss: 3.838087953529599\n",
      "[학습 192] Loss: 3.616760175824098\n",
      "[학습 193] Loss: 3.4509504428620046\n",
      "[학습 194] Loss: 3.663585699817302\n",
      "[학습 195] Loss: 3.601878360324921\n",
      "[학습 196] Loss: 3.637369572830089\n",
      "[학습 197] Loss: 3.4940409260770684\n",
      "[학습 198] Loss: 3.459279497520148\n",
      "[학습 199] Loss: 3.349187629574605\n",
      "[학습 200] Loss: 3.417581275465758\n",
      "[학습 201] Loss: 3.6008178223908867\n",
      "[학습 202] Loss: 3.5624206107951806\n",
      "[학습 203] Loss: 3.698657423654397\n",
      "[학습 204] Loss: 3.358941980886391\n",
      "[학습 205] Loss: 3.2634715677291\n",
      "[학습 206] Loss: 3.6214371817684095\n",
      "[학습 207] Loss: 3.75695700468139\n",
      "[학습 208] Loss: 3.677087599361377\n",
      "[학습 209] Loss: 3.785955572517289\n",
      "[학습 210] Loss: 3.864670550631761\n",
      "[학습 211] Loss: 3.7030590636580256\n",
      "[학습 212] Loss: 3.5072755954940784\n",
      "[학습 213] Loss: 3.3179967670796002\n",
      "[학습 214] Loss: 3.5461119009784183\n",
      "[학습 215] Loss: 3.502626565649913\n",
      "[학습 216] Loss: 3.4853409778508624\n",
      "[학습 217] Loss: 3.590373867941249\n",
      "[학습 218] Loss: 3.6349899662336838\n",
      "[학습 219] Loss: 3.499739407764748\n",
      "[학습 220] Loss: 3.7864199399712426\n",
      "[학습 221] Loss: 3.941853728755167\n",
      "[학습 222] Loss: 3.7470989849514025\n",
      "[학습 223] Loss: 3.6249248037933084\n",
      "[학습 224] Loss: 3.5094645323141287\n",
      "[학습 225] Loss: 3.387561092189218\n",
      "[학습 226] Loss: 3.133036897639654\n",
      "[학습 227] Loss: 3.442887445810754\n",
      "[학습 228] Loss: 3.3838961350233263\n",
      "[학습 229] Loss: 3.3496882287315275\n",
      "[학습 230] Loss: 3.8543048909410644\n",
      "[학습 231] Loss: 3.649007273264731\n",
      "[학습 232] Loss: 3.6840306218538523\n",
      "[학습 233] Loss: 3.8142879309627618\n",
      "[학습 234] Loss: 3.1910704648345565\n",
      "[학습 235] Loss: 3.528421719351884\n",
      "[학습 236] Loss: 3.6579860583999992\n",
      "[학습 237] Loss: 3.8476120946121455\n",
      "[학습 238] Loss: 3.650418615483121\n",
      "[학습 239] Loss: 3.3735808720858333\n",
      "[학습 240] Loss: 3.739392151137954\n",
      "[학습 241] Loss: 3.179536348459285\n",
      "[학습 242] Loss: 3.4088215669988156\n",
      "[학습 243] Loss: 3.273993608397825\n",
      "[학습 244] Loss: 3.3395865020755817\n",
      "[학습 245] Loss: 3.3552016140812957\n",
      "[학습 246] Loss: 3.6143049727128225\n"
     ]
    },
    {
     "ename": "KeyboardInterrupt",
     "evalue": "",
     "output_type": "error",
     "traceback": [
      "\u001b[1;31m---------------------------------------------------------------------------\u001b[0m",
      "\u001b[1;31mKeyboardInterrupt\u001b[0m                         Traceback (most recent call last)",
      "\u001b[1;32m<ipython-input-117-46f7184df509>\u001b[0m in \u001b[0;36m<module>\u001b[1;34m()\u001b[0m\n\u001b[0;32m      1\u001b[0m loss_history = model.fit(X_train, Y_train, \n\u001b[0;32m      2\u001b[0m                          \u001b[0m배치크기\u001b[0m\u001b[1;33m=\u001b[0m\u001b[1;36m100\u001b[0m\u001b[1;33m,\u001b[0m \u001b[0m학습횟수\u001b[0m\u001b[1;33m=\u001b[0m\u001b[1;36m600\u001b[0m\u001b[1;33m*\u001b[0m\u001b[1;36m10\u001b[0m\u001b[1;33m,\u001b[0m\u001b[1;33m\u001b[0m\u001b[0m\n\u001b[1;32m----> 3\u001b[1;33m                          학습률=0.01)\n\u001b[0m",
      "\u001b[1;32m<ipython-input-97-ef6fd822cc43>\u001b[0m in \u001b[0;36mfit\u001b[1;34m(self, X, y, 배치크기, 학습률, 학습횟수)\u001b[0m\n\u001b[0;32m     57\u001b[0m             \u001b[0m기울기\u001b[0m \u001b[1;33m=\u001b[0m \u001b[1;33m[\u001b[0m\u001b[1;33m]\u001b[0m\u001b[1;33m\u001b[0m\u001b[0m\n\u001b[0;32m     58\u001b[0m             \u001b[1;32mfor\u001b[0m \u001b[0mlayer\u001b[0m \u001b[1;32min\u001b[0m \u001b[0mself\u001b[0m\u001b[1;33m.\u001b[0m\u001b[0mlayers\u001b[0m\u001b[1;33m:\u001b[0m\u001b[1;33m\u001b[0m\u001b[0m\n\u001b[1;32m---> 59\u001b[1;33m                 \u001b[0mdW\u001b[0m \u001b[1;33m=\u001b[0m \u001b[0mnumerical_gradient_2D\u001b[0m\u001b[1;33m(\u001b[0m\u001b[0mf\u001b[0m\u001b[1;33m,\u001b[0m \u001b[0mlayer\u001b[0m\u001b[1;33m.\u001b[0m\u001b[0mW\u001b[0m\u001b[1;33m)\u001b[0m\u001b[1;33m\u001b[0m\u001b[0m\n\u001b[0m\u001b[0;32m     60\u001b[0m                 \u001b[0mdb\u001b[0m \u001b[1;33m=\u001b[0m \u001b[0mnumerical_gradient_2D\u001b[0m\u001b[1;33m(\u001b[0m\u001b[0mf\u001b[0m\u001b[1;33m,\u001b[0m \u001b[0mlayer\u001b[0m\u001b[1;33m.\u001b[0m\u001b[0mb\u001b[0m\u001b[1;33m)\u001b[0m\u001b[1;33m\u001b[0m\u001b[0m\n\u001b[0;32m     61\u001b[0m                 \u001b[0m기울기\u001b[0m\u001b[1;33m.\u001b[0m\u001b[0mappend\u001b[0m\u001b[1;33m(\u001b[0m\u001b[1;33m(\u001b[0m\u001b[0mdW\u001b[0m\u001b[1;33m,\u001b[0m \u001b[0mdb\u001b[0m\u001b[1;33m)\u001b[0m\u001b[1;33m)\u001b[0m\u001b[1;33m\u001b[0m\u001b[0m\n",
      "\u001b[1;32m<ipython-input-97-ef6fd822cc43>\u001b[0m in \u001b[0;36mnumerical_gradient_2D\u001b[1;34m(f, X)\u001b[0m\n\u001b[0;32m      6\u001b[0m     \u001b[0mgrad\u001b[0m \u001b[1;33m=\u001b[0m \u001b[0mnp\u001b[0m\u001b[1;33m.\u001b[0m\u001b[0mzeros_like\u001b[0m\u001b[1;33m(\u001b[0m\u001b[0mX\u001b[0m\u001b[1;33m)\u001b[0m\u001b[1;33m\u001b[0m\u001b[0m\n\u001b[0;32m      7\u001b[0m     \u001b[1;32mfor\u001b[0m \u001b[0mi\u001b[0m\u001b[1;33m,\u001b[0m\u001b[0mx\u001b[0m \u001b[1;32min\u001b[0m \u001b[0menumerate\u001b[0m\u001b[1;33m(\u001b[0m\u001b[0mX\u001b[0m\u001b[1;33m)\u001b[0m\u001b[1;33m:\u001b[0m\u001b[1;33m\u001b[0m\u001b[0m\n\u001b[1;32m----> 8\u001b[1;33m         \u001b[0mgrad\u001b[0m\u001b[1;33m[\u001b[0m\u001b[0mi\u001b[0m\u001b[1;33m]\u001b[0m \u001b[1;33m=\u001b[0m \u001b[0mnumerical_gradient\u001b[0m\u001b[1;33m(\u001b[0m\u001b[0mf\u001b[0m\u001b[1;33m,\u001b[0m \u001b[0mx\u001b[0m\u001b[1;33m)\u001b[0m\u001b[1;33m\u001b[0m\u001b[0m\n\u001b[0m\u001b[0;32m      9\u001b[0m \u001b[1;33m\u001b[0m\u001b[0m\n\u001b[0;32m     10\u001b[0m     \u001b[1;32mreturn\u001b[0m \u001b[0mgrad\u001b[0m\u001b[1;33m\u001b[0m\u001b[0m\n",
      "\u001b[1;32m<ipython-input-53-da5e9624924b>\u001b[0m in \u001b[0;36m경사산출\u001b[1;34m(f, x)\u001b[0m\n\u001b[0;32m     10\u001b[0m         \u001b[1;31m# f(x-h)\u001b[0m\u001b[1;33m\u001b[0m\u001b[1;33m\u001b[0m\u001b[0m\n\u001b[0;32m     11\u001b[0m         \u001b[0mx\u001b[0m\u001b[1;33m[\u001b[0m\u001b[0mi\u001b[0m\u001b[1;33m]\u001b[0m \u001b[1;33m=\u001b[0m \u001b[0mxi\u001b[0m \u001b[1;33m-\u001b[0m \u001b[0mh\u001b[0m\u001b[1;33m\u001b[0m\u001b[0m\n\u001b[1;32m---> 12\u001b[1;33m         \u001b[0mfxh2\u001b[0m \u001b[1;33m=\u001b[0m \u001b[0mf\u001b[0m\u001b[1;33m(\u001b[0m\u001b[0mx\u001b[0m\u001b[1;33m)\u001b[0m\u001b[1;33m\u001b[0m\u001b[0m\n\u001b[0m\u001b[0;32m     13\u001b[0m \u001b[1;33m\u001b[0m\u001b[0m\n\u001b[0;32m     14\u001b[0m         \u001b[0m경사\u001b[0m\u001b[1;33m[\u001b[0m\u001b[0mi\u001b[0m\u001b[1;33m]\u001b[0m \u001b[1;33m=\u001b[0m \u001b[1;33m(\u001b[0m\u001b[0mfxh1\u001b[0m \u001b[1;33m-\u001b[0m \u001b[0mfxh2\u001b[0m\u001b[1;33m)\u001b[0m \u001b[1;33m/\u001b[0m \u001b[1;33m(\u001b[0m\u001b[1;36m2\u001b[0m\u001b[1;33m*\u001b[0m\u001b[0mh\u001b[0m\u001b[1;33m)\u001b[0m\u001b[1;33m\u001b[0m\u001b[0m\n",
      "\u001b[1;32m<ipython-input-97-ef6fd822cc43>\u001b[0m in \u001b[0;36m<lambda>\u001b[1;34m(W)\u001b[0m\n\u001b[0;32m     54\u001b[0m             \u001b[0my_batch\u001b[0m \u001b[1;33m=\u001b[0m \u001b[0my\u001b[0m\u001b[1;33m[\u001b[0m\u001b[0m배치색인\u001b[0m\u001b[1;33m]\u001b[0m\u001b[1;33m\u001b[0m\u001b[0m\n\u001b[0;32m     55\u001b[0m             \u001b[1;31m# 2. 기울기 산출\u001b[0m\u001b[1;33m\u001b[0m\u001b[1;33m\u001b[0m\u001b[0m\n\u001b[1;32m---> 56\u001b[1;33m             \u001b[0mf\u001b[0m \u001b[1;33m=\u001b[0m \u001b[1;32mlambda\u001b[0m \u001b[0mW\u001b[0m\u001b[1;33m:\u001b[0m \u001b[0mself\u001b[0m\u001b[1;33m.\u001b[0m\u001b[0mcompute_loss\u001b[0m\u001b[1;33m(\u001b[0m\u001b[0mX_batch\u001b[0m\u001b[1;33m,\u001b[0m \u001b[0my_batch\u001b[0m\u001b[1;33m)\u001b[0m\u001b[1;33m\u001b[0m\u001b[0m\n\u001b[0m\u001b[0;32m     57\u001b[0m             \u001b[0m기울기\u001b[0m \u001b[1;33m=\u001b[0m \u001b[1;33m[\u001b[0m\u001b[1;33m]\u001b[0m\u001b[1;33m\u001b[0m\u001b[0m\n\u001b[0;32m     58\u001b[0m             \u001b[1;32mfor\u001b[0m \u001b[0mlayer\u001b[0m \u001b[1;32min\u001b[0m \u001b[0mself\u001b[0m\u001b[1;33m.\u001b[0m\u001b[0mlayers\u001b[0m\u001b[1;33m:\u001b[0m\u001b[1;33m\u001b[0m\u001b[0m\n",
      "\u001b[1;32m<ipython-input-97-ef6fd822cc43>\u001b[0m in \u001b[0;36mcompute_loss\u001b[1;34m(self, X, y)\u001b[0m\n\u001b[0;32m     41\u001b[0m \u001b[1;33m\u001b[0m\u001b[0m\n\u001b[0;32m     42\u001b[0m     \u001b[1;32mdef\u001b[0m \u001b[0mcompute_loss\u001b[0m\u001b[1;33m(\u001b[0m\u001b[0mself\u001b[0m\u001b[1;33m,\u001b[0m \u001b[0mX\u001b[0m\u001b[1;33m,\u001b[0m \u001b[0my\u001b[0m\u001b[1;33m)\u001b[0m\u001b[1;33m:\u001b[0m\u001b[1;33m\u001b[0m\u001b[0m\n\u001b[1;32m---> 43\u001b[1;33m         \u001b[0my_pred\u001b[0m \u001b[1;33m=\u001b[0m \u001b[0mself\u001b[0m\u001b[1;33m.\u001b[0m\u001b[0mpredict\u001b[0m\u001b[1;33m(\u001b[0m\u001b[0mX\u001b[0m\u001b[1;33m)\u001b[0m\u001b[1;33m\u001b[0m\u001b[0m\n\u001b[0m\u001b[0;32m     44\u001b[0m         \u001b[0mloss\u001b[0m \u001b[1;33m=\u001b[0m \u001b[0mself\u001b[0m\u001b[1;33m.\u001b[0m\u001b[0mloss_func\u001b[0m\u001b[1;33m(\u001b[0m\u001b[0my_pred\u001b[0m\u001b[1;33m,\u001b[0m \u001b[0my\u001b[0m\u001b[1;33m)\u001b[0m\u001b[1;33m\u001b[0m\u001b[0m\n\u001b[0;32m     45\u001b[0m         \u001b[1;32mreturn\u001b[0m \u001b[0mloss\u001b[0m\u001b[1;33m\u001b[0m\u001b[0m\n",
      "\u001b[1;32m<ipython-input-97-ef6fd822cc43>\u001b[0m in \u001b[0;36mpredict\u001b[1;34m(self, X)\u001b[0m\n\u001b[0;32m     36\u001b[0m         \u001b[0mlayer_output\u001b[0m \u001b[1;33m=\u001b[0m \u001b[0mX\u001b[0m\u001b[1;33m\u001b[0m\u001b[0m\n\u001b[0;32m     37\u001b[0m         \u001b[1;32mfor\u001b[0m \u001b[0mlayer\u001b[0m \u001b[1;32min\u001b[0m \u001b[0mself\u001b[0m\u001b[1;33m.\u001b[0m\u001b[0mlayers\u001b[0m\u001b[1;33m:\u001b[0m\u001b[1;33m\u001b[0m\u001b[0m\n\u001b[1;32m---> 38\u001b[1;33m             \u001b[0mlayer_output\u001b[0m \u001b[1;33m=\u001b[0m \u001b[0mlayer\u001b[0m\u001b[1;33m.\u001b[0m\u001b[0mforward\u001b[0m\u001b[1;33m(\u001b[0m\u001b[0mlayer_output\u001b[0m\u001b[1;33m)\u001b[0m\u001b[1;33m\u001b[0m\u001b[0m\n\u001b[0m\u001b[0;32m     39\u001b[0m         \u001b[0my\u001b[0m \u001b[1;33m=\u001b[0m \u001b[0mlayer_output\u001b[0m\u001b[1;33m\u001b[0m\u001b[0m\n\u001b[0;32m     40\u001b[0m         \u001b[1;32mreturn\u001b[0m \u001b[0my\u001b[0m\u001b[1;33m\u001b[0m\u001b[0m\n",
      "\u001b[1;32m<ipython-input-97-ef6fd822cc43>\u001b[0m in \u001b[0;36mforward\u001b[1;34m(self, X)\u001b[0m\n\u001b[0;32m     22\u001b[0m     \u001b[1;32mdef\u001b[0m \u001b[0mforward\u001b[0m\u001b[1;33m(\u001b[0m\u001b[0mself\u001b[0m\u001b[1;33m,\u001b[0m \u001b[0mX\u001b[0m\u001b[1;33m)\u001b[0m\u001b[1;33m:\u001b[0m\u001b[1;33m\u001b[0m\u001b[0m\n\u001b[0;32m     23\u001b[0m         \u001b[0mz\u001b[0m \u001b[1;33m=\u001b[0m \u001b[0mnp\u001b[0m\u001b[1;33m.\u001b[0m\u001b[0mdot\u001b[0m\u001b[1;33m(\u001b[0m\u001b[0mX\u001b[0m\u001b[1;33m,\u001b[0m \u001b[0mself\u001b[0m\u001b[1;33m.\u001b[0m\u001b[0mW\u001b[0m\u001b[1;33m)\u001b[0m \u001b[1;33m+\u001b[0m \u001b[0mself\u001b[0m\u001b[1;33m.\u001b[0m\u001b[0mb\u001b[0m\u001b[1;33m\u001b[0m\u001b[0m\n\u001b[1;32m---> 24\u001b[1;33m         \u001b[1;32mreturn\u001b[0m \u001b[0mself\u001b[0m\u001b[1;33m.\u001b[0m\u001b[0m활성화\u001b[0m\u001b[1;33m(\u001b[0m\u001b[0mz\u001b[0m\u001b[1;33m)\u001b[0m\u001b[1;33m\u001b[0m\u001b[0m\n\u001b[0m\u001b[0;32m     25\u001b[0m \u001b[1;33m\u001b[0m\u001b[0m\n\u001b[0;32m     26\u001b[0m \u001b[1;33m\u001b[0m\u001b[0m\n",
      "\u001b[1;32m<ipython-input-103-e0df9e94ae5e>\u001b[0m in \u001b[0;36msigmoid\u001b[1;34m(x)\u001b[0m\n\u001b[0;32m      1\u001b[0m \u001b[1;32mdef\u001b[0m \u001b[0msigmoid\u001b[0m\u001b[1;33m(\u001b[0m\u001b[0mx\u001b[0m\u001b[1;33m)\u001b[0m\u001b[1;33m:\u001b[0m\u001b[1;33m\u001b[0m\u001b[0m\n\u001b[1;32m----> 2\u001b[1;33m     \u001b[1;32mreturn\u001b[0m \u001b[1;36m1\u001b[0m \u001b[1;33m/\u001b[0m \u001b[1;33m(\u001b[0m\u001b[1;36m1\u001b[0m \u001b[1;33m+\u001b[0m \u001b[0mnp\u001b[0m\u001b[1;33m.\u001b[0m\u001b[0mexp\u001b[0m\u001b[1;33m(\u001b[0m\u001b[1;33m-\u001b[0m\u001b[0mx\u001b[0m\u001b[1;33m)\u001b[0m\u001b[1;33m)\u001b[0m\u001b[1;33m\u001b[0m\u001b[0m\n\u001b[0m",
      "\u001b[1;31mKeyboardInterrupt\u001b[0m: "
     ]
    }
   ],
   "source": [
    "loss_history = model.fit(X_train, Y_train, \n",
    "                         배치크기=100, 학습횟수=600*10, \n",
    "                         학습률=0.01)"
   ]
  },
  {
   "cell_type": "markdown",
   "metadata": {},
   "source": [
    "## 1986 오차역전파"
   ]
  },
  {
   "cell_type": "code",
   "execution_count": 108,
   "metadata": {
    "collapsed": true
   },
   "outputs": [],
   "source": [
    "class 곱하기:\n",
    "    def __init__(self):\n",
    "        self.x = None\n",
    "        self.y = None\n",
    "        \n",
    "    def forward(self, x, y):\n",
    "        self.x = x\n",
    "        self.y = y\n",
    "        return x * y\n",
    "    \n",
    "    def backward(self, dout):\n",
    "        dx = dout * self.y\n",
    "        dy = dout * self.x\n",
    "        return dx, dy"
   ]
  },
  {
   "cell_type": "code",
   "execution_count": 109,
   "metadata": {
    "collapsed": true
   },
   "outputs": [],
   "source": [
    "사과단가, 사과개수, 부가세 = 100, 2, 1.1"
   ]
  },
  {
   "cell_type": "code",
   "execution_count": 110,
   "metadata": {
    "collapsed": true
   },
   "outputs": [],
   "source": [
    "곱1 = 곱하기()\n",
    "곱2 = 곱하기()"
   ]
  },
  {
   "cell_type": "markdown",
   "metadata": {},
   "source": [
    "순전파"
   ]
  },
  {
   "cell_type": "code",
   "execution_count": 111,
   "metadata": {},
   "outputs": [
    {
     "data": {
      "text/plain": [
       "220.00000000000003"
      ]
     },
     "execution_count": 111,
     "metadata": {},
     "output_type": "execute_result"
    }
   ],
   "source": [
    "사과가격 = 곱1.forward(사과단가, 사과개수)\n",
    "가격 = 곱2.forward(사과가격, 부가세)\n",
    "가격"
   ]
  },
  {
   "cell_type": "markdown",
   "metadata": {},
   "source": [
    "역전파"
   ]
  },
  {
   "cell_type": "code",
   "execution_count": 112,
   "metadata": {},
   "outputs": [
    {
     "data": {
      "text/plain": [
       "(2.2, 110.00000000000001)"
      ]
     },
     "execution_count": 112,
     "metadata": {},
     "output_type": "execute_result"
    }
   ],
   "source": [
    "d사과가격, d부가세 = 곱2.backward(dout=1)\n",
    "d사과단가, d사과개수 = 곱1.backward(dout=d사과가격)\n",
    "d사과단가, d사과개수"
   ]
  },
  {
   "cell_type": "code",
   "execution_count": 113,
   "metadata": {
    "collapsed": true
   },
   "outputs": [],
   "source": [
    "class ReLu:\n",
    "    def __init__(self):\n",
    "        self.mask = None\n",
    "        \n",
    "    def forward(self, x):\n",
    "        self.mask = x > 0\n",
    "        return np.where(self.mask, x, 0)\n",
    "    \n",
    "    def backward(self, dout):\n",
    "        return np.where(self.mask, 1, 0)"
   ]
  },
  {
   "cell_type": "code",
   "execution_count": null,
   "metadata": {
    "collapsed": true
   },
   "outputs": [],
   "source": []
  }
 ],
 "metadata": {
  "kernelspec": {
   "display_name": "Python 3",
   "language": "python",
   "name": "python3"
  },
  "language_info": {
   "codemirror_mode": {
    "name": "ipython",
    "version": 3
   },
   "file_extension": ".py",
   "mimetype": "text/x-python",
   "name": "python",
   "nbconvert_exporter": "python",
   "pygments_lexer": "ipython3",
   "version": "3.6.3"
  }
 },
 "nbformat": 4,
 "nbformat_minor": 2
}

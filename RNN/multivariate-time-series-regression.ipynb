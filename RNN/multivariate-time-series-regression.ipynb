{
 "cells": [
  {
   "cell_type": "markdown",
   "metadata": {},
   "source": [
    "# Multivariate Time Series Regression "
   ]
  },
  {
   "cell_type": "markdown",
   "metadata": {},
   "source": [
    "이성주 (c) 2018\n",
    "\n",
    "seongjoo@codebasic.io"
   ]
  },
  {
   "cell_type": "code",
   "execution_count": 2,
   "metadata": {},
   "outputs": [
    {
     "name": "stderr",
     "output_type": "stream",
     "text": [
      "Using TensorFlow backend.\n"
     ]
    }
   ],
   "source": [
    "import os.path\n",
    "from datetime import datetime\n",
    "\n",
    "import numpy as np\n",
    "import pandas as pd\n",
    "from pandas import Series, DataFrame\n",
    "\n",
    "from sklearn.preprocessing import MinMaxScaler, StandardScaler\n",
    "from sklearn.metrics import r2_score\n",
    "from sklearn.model_selection import train_test_split\n",
    "\n",
    "from keras.models import load_model\n",
    "from keras.models import Sequential\n",
    "from keras.layers import Dense\n",
    "from keras.layers import LSTM\n",
    "\n",
    "import matplotlib.pyplot as plt\n",
    "%matplotlib inline"
   ]
  },
  {
   "cell_type": "code",
   "execution_count": 3,
   "metadata": {},
   "outputs": [
    {
     "ename": "ModuleNotFoundError",
     "evalue": "No module named 'deepy'",
     "output_type": "error",
     "traceback": [
      "\u001b[0;31m---------------------------------------------------------------------------\u001b[0m",
      "\u001b[0;31mModuleNotFoundError\u001b[0m                       Traceback (most recent call last)",
      "\u001b[0;32m<ipython-input-3-85411667f7ba>\u001b[0m in \u001b[0;36m<module>\u001b[0;34m\u001b[0m\n\u001b[0;32m----> 1\u001b[0;31m \u001b[0;32mfrom\u001b[0m \u001b[0mdeepy\u001b[0m\u001b[0;34m.\u001b[0m\u001b[0mtimeseries\u001b[0m \u001b[0;32mimport\u001b[0m \u001b[0mtime_step_seq\u001b[0m\u001b[0;34m\u001b[0m\u001b[0;34m\u001b[0m\u001b[0m\n\u001b[0m",
      "\u001b[0;31mModuleNotFoundError\u001b[0m: No module named 'deepy'"
     ]
    }
   ],
   "source": [
    "from deepy.timeseries import time_step_seq"
   ]
  },
  {
   "cell_type": "markdown",
   "metadata": {},
   "source": [
    "주중 미국 대사관 북경 대기오염 측정 자료\n",
    "\n",
    "[Beijing PM2.5 Data Set (UCI-ML)](https://archive.ics.uci.edu/ml/datasets/Beijing+PM2.5+Data)"
   ]
  },
  {
   "cell_type": "code",
   "execution_count": null,
   "metadata": {},
   "outputs": [],
   "source": [
    "data = pd.read_csv(\n",
    "    '../data/uci-ml/beijing-pm25.csv',\n",
    "    index_col=0,\n",
    "    parse_dates=[['year', 'month', 'daxgy', 'hour']],\n",
    "    date_parser=lambda dt_str: datetime.strptime(dt_str, '%Y %m %d %H')\n",
    ")\n",
    "\n",
    "data.index.name = 'datetime'\n",
    "time_index = data.index\n",
    "data = data.drop(columns='No')\n",
    "data[:5]"
   ]
  },
  {
   "cell_type": "markdown",
   "metadata": {},
   "source": [
    "누락된 값 처리"
   ]
  },
  {
   "cell_type": "code",
   "execution_count": null,
   "metadata": {},
   "outputs": [],
   "source": [
    "data = data.fillna(data['pm2.5'].mean())"
   ]
  },
  {
   "cell_type": "code",
   "execution_count": null,
   "metadata": {},
   "outputs": [],
   "source": [
    "data.shape"
   ]
  },
  {
   "cell_type": "code",
   "execution_count": null,
   "metadata": {},
   "outputs": [],
   "source": [
    "axes = data.plot(subplots=True, figsize=(10, 10))"
   ]
  },
  {
   "cell_type": "markdown",
   "metadata": {},
   "source": [
    "$$ x^{t-1}_1, x^{t-1}_2, ... , x^{t-1}_n \\rightarrow y^{t} $$"
   ]
  },
  {
   "cell_type": "markdown",
   "metadata": {},
   "source": [
    "One Hot Encoding"
   ]
  },
  {
   "cell_type": "code",
   "execution_count": 1,
   "metadata": {},
   "outputs": [
    {
     "ename": "NameError",
     "evalue": "name 'pd' is not defined",
     "output_type": "error",
     "traceback": [
      "\u001b[0;31m---------------------------------------------------------------------------\u001b[0m",
      "\u001b[0;31mNameError\u001b[0m                                 Traceback (most recent call last)",
      "\u001b[0;32m<ipython-input-1-7977fece3330>\u001b[0m in \u001b[0;36m<module>\u001b[0;34m\u001b[0m\n\u001b[0;32m----> 1\u001b[0;31m \u001b[0mdata\u001b[0m \u001b[0;34m=\u001b[0m \u001b[0mpd\u001b[0m\u001b[0;34m.\u001b[0m\u001b[0mget_dummies\u001b[0m\u001b[0;34m(\u001b[0m\u001b[0mdata\u001b[0m\u001b[0;34m)\u001b[0m\u001b[0;34m\u001b[0m\u001b[0;34m\u001b[0m\u001b[0m\n\u001b[0m\u001b[1;32m      2\u001b[0m \u001b[0mdata\u001b[0m\u001b[0;34m[\u001b[0m\u001b[0;34m:\u001b[0m\u001b[0;36m5\u001b[0m\u001b[0;34m]\u001b[0m\u001b[0;34m\u001b[0m\u001b[0;34m\u001b[0m\u001b[0m\n\u001b[1;32m      3\u001b[0m \u001b[0;31m# CNN은 안 먹힘. CNN은 features 간에 서로 영향을 주고 받는다는 건데, 이건 순서가 어떻든 상관없음.\u001b[0m\u001b[0;34m\u001b[0m\u001b[0;34m\u001b[0m\u001b[0;34m\u001b[0m\u001b[0m\n\u001b[1;32m      4\u001b[0m \u001b[0;31m# 이 데이터는 시간 흐름이 중요한 것임.\u001b[0m\u001b[0;34m\u001b[0m\u001b[0;34m\u001b[0m\u001b[0;34m\u001b[0m\u001b[0m\n",
      "\u001b[0;31mNameError\u001b[0m: name 'pd' is not defined"
     ]
    }
   ],
   "source": [
    "data = pd.get_dummies(data)\n",
    "data[:5]\n",
    "# CNN은 안 먹힘. CNN은 features 간에 서로 영향을 주고 받는다는 건데, 이건 순서가 어떻든 상관없음.\n",
    "# 이 데이터는 시간 흐름이 중요한 것임."
   ]
  },
  {
   "cell_type": "markdown",
   "metadata": {},
   "source": [
    "스케일 조정"
   ]
  },
  {
   "cell_type": "code",
   "execution_count": 8,
   "metadata": {},
   "outputs": [],
   "source": [
    "scaler = MinMaxScaler()"
   ]
  },
  {
   "cell_type": "code",
   "execution_count": 9,
   "metadata": {},
   "outputs": [],
   "source": [
    "data = scaler.fit_transform(data)"
   ]
  },
  {
   "cell_type": "markdown",
   "metadata": {},
   "source": [
    "시계열 데이터를 지도학습의 입력으로 사용하기 위한 형상 형성\n",
    "\n",
    "X: ..., X(t-1), X(t)  \n",
    "Y: X(t+1), X(t+2), ..."
   ]
  },
  {
   "cell_type": "code",
   "execution_count": 10,
   "metadata": {},
   "outputs": [],
   "source": [
    "X, Y = time_step_seq(data, look_back=0, look_forward=1)"
   ]
  },
  {
   "cell_type": "code",
   "execution_count": 11,
   "metadata": {},
   "outputs": [
    {
     "data": {
      "text/plain": [
       "(43823, 1, 11)"
      ]
     },
     "execution_count": 11,
     "metadata": {},
     "output_type": "execute_result"
    }
   ],
   "source": [
    "X.shape"
   ]
  },
  {
   "cell_type": "code",
   "execution_count": 12,
   "metadata": {},
   "outputs": [
    {
     "data": {
      "text/plain": [
       "(43823, 1, 11)"
      ]
     },
     "execution_count": 12,
     "metadata": {},
     "output_type": "execute_result"
    }
   ],
   "source": [
    "Y.shape"
   ]
  },
  {
   "cell_type": "code",
   "execution_count": 13,
   "metadata": {},
   "outputs": [],
   "source": [
    "y = Y[:, 0, 0]"
   ]
  },
  {
   "cell_type": "code",
   "execution_count": 14,
   "metadata": {},
   "outputs": [
    {
     "data": {
      "text/plain": [
       "array([ 0.09920847,  0.09920847,  0.09920847, ...,  0.01006036,\n",
       "        0.00804829,  0.01207243])"
      ]
     },
     "execution_count": 14,
     "metadata": {},
     "output_type": "execute_result"
    }
   ],
   "source": [
    "y"
   ]
  },
  {
   "cell_type": "markdown",
   "metadata": {},
   "source": [
    "Train/Test"
   ]
  },
  {
   "cell_type": "code",
   "execution_count": 15,
   "metadata": {},
   "outputs": [],
   "source": [
    "X_train, X_test, y_train, y_test = train_test_split(X, y, shuffle=False)"
   ]
  },
  {
   "cell_type": "code",
   "execution_count": 16,
   "metadata": {},
   "outputs": [
    {
     "data": {
      "text/plain": [
       "(32867, 1, 11)"
      ]
     },
     "execution_count": 16,
     "metadata": {},
     "output_type": "execute_result"
    }
   ],
   "source": [
    "X_train.shape"
   ]
  },
  {
   "cell_type": "code",
   "execution_count": 17,
   "metadata": {},
   "outputs": [
    {
     "data": {
      "text/html": [
       "<div>\n",
       "<style scoped>\n",
       "    .dataframe tbody tr th:only-of-type {\n",
       "        vertical-align: middle;\n",
       "    }\n",
       "\n",
       "    .dataframe tbody tr th {\n",
       "        vertical-align: top;\n",
       "    }\n",
       "\n",
       "    .dataframe thead th {\n",
       "        text-align: right;\n",
       "    }\n",
       "</style>\n",
       "<table border=\"1\" class=\"dataframe\">\n",
       "  <thead>\n",
       "    <tr style=\"text-align: right;\">\n",
       "      <th></th>\n",
       "      <th>0</th>\n",
       "      <th>1</th>\n",
       "      <th>2</th>\n",
       "      <th>3</th>\n",
       "      <th>4</th>\n",
       "      <th>5</th>\n",
       "      <th>6</th>\n",
       "      <th>7</th>\n",
       "      <th>8</th>\n",
       "      <th>9</th>\n",
       "      <th>10</th>\n",
       "    </tr>\n",
       "  </thead>\n",
       "  <tbody>\n",
       "    <tr>\n",
       "      <th>0</th>\n",
       "      <td>0.099208</td>\n",
       "      <td>0.279412</td>\n",
       "      <td>0.131148</td>\n",
       "      <td>0.545455</td>\n",
       "      <td>0.002290</td>\n",
       "      <td>0.0</td>\n",
       "      <td>0.0</td>\n",
       "      <td>0.0</td>\n",
       "      <td>1.0</td>\n",
       "      <td>0.0</td>\n",
       "      <td>0.0</td>\n",
       "    </tr>\n",
       "    <tr>\n",
       "      <th>1</th>\n",
       "      <td>0.099208</td>\n",
       "      <td>0.279412</td>\n",
       "      <td>0.114754</td>\n",
       "      <td>0.527273</td>\n",
       "      <td>0.007639</td>\n",
       "      <td>0.0</td>\n",
       "      <td>0.0</td>\n",
       "      <td>0.0</td>\n",
       "      <td>1.0</td>\n",
       "      <td>0.0</td>\n",
       "      <td>0.0</td>\n",
       "    </tr>\n",
       "    <tr>\n",
       "      <th>2</th>\n",
       "      <td>0.099208</td>\n",
       "      <td>0.279412</td>\n",
       "      <td>0.131148</td>\n",
       "      <td>0.509091</td>\n",
       "      <td>0.010698</td>\n",
       "      <td>0.0</td>\n",
       "      <td>0.0</td>\n",
       "      <td>0.0</td>\n",
       "      <td>1.0</td>\n",
       "      <td>0.0</td>\n",
       "      <td>0.0</td>\n",
       "    </tr>\n",
       "  </tbody>\n",
       "</table>\n",
       "</div>"
      ],
      "text/plain": [
       "         0         1         2         3         4    5    6    7    8    9   \\\n",
       "0  0.099208  0.279412  0.131148  0.545455  0.002290  0.0  0.0  0.0  1.0  0.0   \n",
       "1  0.099208  0.279412  0.114754  0.527273  0.007639  0.0  0.0  0.0  1.0  0.0   \n",
       "2  0.099208  0.279412  0.131148  0.509091  0.010698  0.0  0.0  0.0  1.0  0.0   \n",
       "\n",
       "    10  \n",
       "0  0.0  \n",
       "1  0.0  \n",
       "2  0.0  "
      ]
     },
     "execution_count": 17,
     "metadata": {},
     "output_type": "execute_result"
    }
   ],
   "source": [
    "DataFrame(X_train[:, -1, :])[:3]"
   ]
  },
  {
   "cell_type": "markdown",
   "metadata": {},
   "source": [
    "모델 구성"
   ]
  },
  {
   "cell_type": "code",
   "execution_count": 18,
   "metadata": {},
   "outputs": [],
   "source": [
    "model_filepath = '../outputs/mv-rnn-ts1.h5'\n",
    "train_history_filepath = '../outputs/train-history-mv-rnn-ts1.csv'"
   ]
  },
  {
   "cell_type": "code",
   "execution_count": 19,
   "metadata": {},
   "outputs": [],
   "source": [
    "time_steps = X.shape[1]\n",
    "data_dim = X_train.shape[-1]"
   ]
  },
  {
   "cell_type": "code",
   "execution_count": 20,
   "metadata": {
    "collapsed": true
   },
   "outputs": [
    {
     "name": "stdout",
     "output_type": "stream",
     "text": [
      "Train on 26293 samples, validate on 6574 samples\n",
      "Epoch 1/50\n",
      "26293/26293 [==============================] - 2s 61us/step - loss: 0.0379 - val_loss: 0.0934\n",
      "Epoch 2/50\n",
      "26293/26293 [==============================] - 1s 57us/step - loss: 0.0190 - val_loss: 0.0489\n",
      "Epoch 3/50\n",
      "26293/26293 [==============================] - 1s 57us/step - loss: 0.0148 - val_loss: 0.0352\n",
      "Epoch 4/50\n",
      "26293/26293 [==============================] - 1s 56us/step - loss: 0.0139 - val_loss: 0.0247\n",
      "Epoch 5/50\n",
      "26293/26293 [==============================] - 1s 56us/step - loss: 0.0136 - val_loss: 0.0202\n",
      "Epoch 6/50\n",
      "26293/26293 [==============================] - 1s 56us/step - loss: 0.0134 - val_loss: 0.0188\n",
      "Epoch 7/50\n",
      "26293/26293 [==============================] - 1s 56us/step - loss: 0.0134 - val_loss: 0.0195\n",
      "Epoch 8/50\n",
      "26293/26293 [==============================] - 1s 56us/step - loss: 0.0134 - val_loss: 0.0173\n",
      "Epoch 9/50\n",
      "26293/26293 [==============================] - 1s 56us/step - loss: 0.0134 - val_loss: 0.0177\n",
      "Epoch 10/50\n",
      "26293/26293 [==============================] - 1s 56us/step - loss: 0.0134 - val_loss: 0.0174\n",
      "Epoch 11/50\n",
      "26293/26293 [==============================] - 1s 56us/step - loss: 0.0133 - val_loss: 0.0161\n",
      "Epoch 12/50\n",
      "26293/26293 [==============================] - 1s 56us/step - loss: 0.0133 - val_loss: 0.0174\n",
      "Epoch 13/50\n",
      "26293/26293 [==============================] - 1s 56us/step - loss: 0.0133 - val_loss: 0.0192\n",
      "Epoch 14/50\n",
      "26293/26293 [==============================] - 2s 58us/step - loss: 0.0134 - val_loss: 0.0154\n",
      "Epoch 15/50\n",
      "26293/26293 [==============================] - 2s 63us/step - loss: 0.0133 - val_loss: 0.0155\n",
      "Epoch 16/50\n",
      "26293/26293 [==============================] - 2s 58us/step - loss: 0.0132 - val_loss: 0.0166\n",
      "Epoch 17/50\n",
      "26293/26293 [==============================] - 2s 59us/step - loss: 0.0133 - val_loss: 0.0165\n",
      "Epoch 18/50\n",
      "26293/26293 [==============================] - 2s 58us/step - loss: 0.0132 - val_loss: 0.0171\n",
      "Epoch 19/50\n",
      "26293/26293 [==============================] - 2s 58us/step - loss: 0.0132 - val_loss: 0.0163\n",
      "Epoch 20/50\n",
      "26293/26293 [==============================] - 1s 57us/step - loss: 0.0132 - val_loss: 0.0170\n",
      "Epoch 21/50\n",
      "26293/26293 [==============================] - 2s 59us/step - loss: 0.0134 - val_loss: 0.0169\n",
      "Epoch 22/50\n",
      "26293/26293 [==============================] - 2s 61us/step - loss: 0.0133 - val_loss: 0.0146\n",
      "Epoch 23/50\n",
      "26293/26293 [==============================] - 1s 56us/step - loss: 0.0131 - val_loss: 0.0148\n",
      "Epoch 24/50\n",
      "26293/26293 [==============================] - 1s 56us/step - loss: 0.0132 - val_loss: 0.0158\n",
      "Epoch 25/50\n",
      "26293/26293 [==============================] - 2s 58us/step - loss: 0.0132 - val_loss: 0.0166\n",
      "Epoch 26/50\n",
      "26293/26293 [==============================] - 2s 58us/step - loss: 0.0132 - val_loss: 0.0175\n",
      "Epoch 27/50\n",
      "26293/26293 [==============================] - 2s 63us/step - loss: 0.0132 - val_loss: 0.0148\n",
      "Epoch 28/50\n",
      "26293/26293 [==============================] - 2s 58us/step - loss: 0.0132 - val_loss: 0.0153\n",
      "Epoch 29/50\n",
      "26293/26293 [==============================] - 2s 58us/step - loss: 0.0132 - val_loss: 0.0149\n",
      "Epoch 30/50\n",
      "26293/26293 [==============================] - 2s 59us/step - loss: 0.0131 - val_loss: 0.0173\n",
      "Epoch 31/50\n",
      "26293/26293 [==============================] - 2s 58us/step - loss: 0.0132 - val_loss: 0.0162\n",
      "Epoch 32/50\n",
      "26293/26293 [==============================] - 2s 58us/step - loss: 0.0131 - val_loss: 0.0169\n",
      "Epoch 33/50\n",
      "26293/26293 [==============================] - 2s 58us/step - loss: 0.0132 - val_loss: 0.0176\n",
      "Epoch 34/50\n",
      "26293/26293 [==============================] - 1s 56us/step - loss: 0.0132 - val_loss: 0.0172\n",
      "Epoch 35/50\n",
      "26293/26293 [==============================] - 2s 58us/step - loss: 0.0132 - val_loss: 0.0173\n",
      "Epoch 36/50\n",
      "26293/26293 [==============================] - 1s 56us/step - loss: 0.0131 - val_loss: 0.0153\n",
      "Epoch 37/50\n",
      "26293/26293 [==============================] - 1s 56us/step - loss: 0.0131 - val_loss: 0.0162\n",
      "Epoch 38/50\n",
      "26293/26293 [==============================] - 1s 56us/step - loss: 0.0131 - val_loss: 0.0158\n",
      "Epoch 39/50\n",
      "26293/26293 [==============================] - 1s 56us/step - loss: 0.0132 - val_loss: 0.0161\n",
      "Epoch 40/50\n",
      "26293/26293 [==============================] - 1s 56us/step - loss: 0.0132 - val_loss: 0.0166\n",
      "Epoch 41/50\n",
      "26293/26293 [==============================] - 1s 56us/step - loss: 0.0132 - val_loss: 0.0164\n",
      "Epoch 42/50\n",
      "26293/26293 [==============================] - 1s 56us/step - loss: 0.0131 - val_loss: 0.0153\n",
      "Epoch 43/50\n",
      "26293/26293 [==============================] - 1s 56us/step - loss: 0.0130 - val_loss: 0.0161\n",
      "Epoch 44/50\n",
      "26293/26293 [==============================] - 1s 56us/step - loss: 0.0131 - val_loss: 0.0157\n",
      "Epoch 45/50\n",
      "26293/26293 [==============================] - 1s 56us/step - loss: 0.0131 - val_loss: 0.0166\n",
      "Epoch 46/50\n",
      "26293/26293 [==============================] - 1s 56us/step - loss: 0.0131 - val_loss: 0.0159\n",
      "Epoch 47/50\n",
      "26293/26293 [==============================] - 1s 56us/step - loss: 0.0131 - val_loss: 0.0161\n",
      "Epoch 48/50\n",
      "26293/26293 [==============================] - 1s 56us/step - loss: 0.0131 - val_loss: 0.0157\n",
      "Epoch 49/50\n",
      "26293/26293 [==============================] - 1s 57us/step - loss: 0.0131 - val_loss: 0.0161\n",
      "Epoch 50/50\n",
      "26293/26293 [==============================] - 2s 57us/step - loss: 0.0131 - val_loss: 0.0156\n"
     ]
    }
   ],
   "source": [
    "if os.path.exists(model_filepath):\n",
    "    model = load_model(model_filepath)\n",
    "else:    \n",
    "    model = Sequential()\n",
    "    model.add(LSTM(50, input_shape=(time_steps, data_dim)))\n",
    "    model.add(Dense(1))\n",
    "    model.compile(loss='mae', optimizer='adam')\n",
    "    # train\n",
    "    history = model.fit(\n",
    "        X_train, y_train, epochs=50, batch_size=72, shuffle=False, validation_split=0.2)\n",
    "    # save model\n",
    "    model.save(model_filepath)\n",
    "    train_result = DataFrame(history.history)\n",
    "    # save train results\n",
    "    train_result.to_csv(train_history_filepath, encoding='utf-8')"
   ]
  },
  {
   "cell_type": "code",
   "execution_count": 21,
   "metadata": {},
   "outputs": [],
   "source": [
    "if os.path.exists(train_history_filepath):\n",
    "    train_result = pd.read_csv(train_history_filepath)"
   ]
  },
  {
   "cell_type": "code",
   "execution_count": 22,
   "metadata": {
    "scrolled": true
   },
   "outputs": [
    {
     "data": {
      "text/plain": [
       "<matplotlib.axes._subplots.AxesSubplot at 0x110f82ba8>"
      ]
     },
     "execution_count": 22,
     "metadata": {},
     "output_type": "execute_result"
    },
    {
     "data": {
      "image/png": "[encoded data removed]",
      "text/plain": [
       "<Figure size 432x288 with 1 Axes>"
      ]
     },
     "metadata": {},
     "output_type": "display_data"
    }
   ],
   "source": [
    "train_result[['loss', 'val_loss']].plot()"
   ]
  },
  {
   "cell_type": "code",
   "execution_count": 23,
   "metadata": {},
   "outputs": [],
   "source": [
    "y_pred_train = model.predict(X_train)"
   ]
  },
  {
   "cell_type": "code",
   "execution_count": 24,
   "metadata": {},
   "outputs": [
    {
     "data": {
      "text/plain": [
       "0.90750741054958128"
      ]
     },
     "execution_count": 24,
     "metadata": {},
     "output_type": "execute_result"
    }
   ],
   "source": [
    "train_score = r2_score(y_train, y_pred_train)\n",
    "train_score"
   ]
  },
  {
   "cell_type": "code",
   "execution_count": 25,
   "metadata": {},
   "outputs": [],
   "source": [
    "y_pred_test = model.predict(X_test)"
   ]
  },
  {
   "cell_type": "code",
   "execution_count": 26,
   "metadata": {},
   "outputs": [
    {
     "data": {
      "text/plain": [
       "0.93237214897655485"
      ]
     },
     "execution_count": 26,
     "metadata": {},
     "output_type": "execute_result"
    }
   ],
   "source": [
    "test_score = r2_score(y_test, y_pred_test)\n",
    "test_score"
   ]
  },
  {
   "cell_type": "code",
   "execution_count": 27,
   "metadata": {},
   "outputs": [
    {
     "data": {
      "text/plain": [
       "[<matplotlib.lines.Line2D at 0x1a326dcda0>]"
      ]
     },
     "execution_count": 27,
     "metadata": {},
     "output_type": "execute_result"
    },
    {
     "data": {
      "image/png": "[encoded data removed]",
      "text/plain": [
       "<Figure size 432x288 with 1 Axes>"
      ]
     },
     "metadata": {},
     "output_type": "display_data"
    }
   ],
   "source": [
    "train_size = len(X_train)\n",
    "xs_train = np.arange(train_size)\n",
    "xs_test = np.arange(train_size, len(y))\n",
    "plt.plot(y)\n",
    "plt.plot(xs_train, y_pred_train)\n",
    "plt.plot(xs_test, y_pred_test)"
   ]
  },
  {
   "cell_type": "markdown",
   "metadata": {},
   "source": [
    "## Stacked LSTM "
   ]
  },
  {
   "cell_type": "code",
   "execution_count": 28,
   "metadata": {},
   "outputs": [],
   "source": [
    "model_filepath = '../outputs/mv-rnn-stacked-ts1.h5'\n",
    "train_history_filepath = '../outputs/train-history-mv-rnn-stacked-ts1.csv'"
   ]
  },
  {
   "cell_type": "code",
   "execution_count": 29,
   "metadata": {
    "collapsed": true
   },
   "outputs": [
    {
     "name": "stdout",
     "output_type": "stream",
     "text": [
      "Train on 26293 samples, validate on 6574 samples\n",
      "Epoch 1/50\n",
      "26293/26293 [==============================] - 3s 112us/step - loss: 0.0412 - val_loss: 0.0540\n",
      "Epoch 2/50\n",
      "26293/26293 [==============================] - 3s 99us/step - loss: 0.0149 - val_loss: 0.0257\n",
      "Epoch 3/50\n",
      "26293/26293 [==============================] - 3s 101us/step - loss: 0.0139 - val_loss: 0.0208\n",
      "Epoch 4/50\n",
      "26293/26293 [==============================] - 3s 100us/step - loss: 0.0138 - val_loss: 0.0197\n",
      "Epoch 5/50\n",
      "26293/26293 [==============================] - 3s 99us/step - loss: 0.0136 - val_loss: 0.0179\n",
      "Epoch 6/50\n",
      "26293/26293 [==============================] - 3s 100us/step - loss: 0.0135 - val_loss: 0.0178\n",
      "Epoch 7/50\n",
      "26293/26293 [==============================] - 3s 100us/step - loss: 0.0134 - val_loss: 0.0153\n",
      "Epoch 8/50\n",
      "26293/26293 [==============================] - 3s 100us/step - loss: 0.0134 - val_loss: 0.0149\n",
      "Epoch 9/50\n",
      "26293/26293 [==============================] - 3s 100us/step - loss: 0.0136 - val_loss: 0.0153\n",
      "Epoch 10/50\n",
      "26293/26293 [==============================] - 3s 100us/step - loss: 0.0134 - val_loss: 0.0151\n",
      "Epoch 11/50\n",
      "26293/26293 [==============================] - 3s 101us/step - loss: 0.0133 - val_loss: 0.0157\n",
      "Epoch 12/50\n",
      "26293/26293 [==============================] - 3s 101us/step - loss: 0.0133 - val_loss: 0.0160\n",
      "Epoch 13/50\n",
      "26293/26293 [==============================] - 3s 100us/step - loss: 0.0136 - val_loss: 0.0159\n",
      "Epoch 14/50\n",
      "26293/26293 [==============================] - 3s 100us/step - loss: 0.0133 - val_loss: 0.0158\n",
      "Epoch 15/50\n",
      "26293/26293 [==============================] - 3s 101us/step - loss: 0.0133 - val_loss: 0.0173\n",
      "Epoch 16/50\n",
      "26293/26293 [==============================] - 3s 100us/step - loss: 0.0132 - val_loss: 0.0159\n",
      "Epoch 17/50\n",
      "26293/26293 [==============================] - 3s 100us/step - loss: 0.0133 - val_loss: 0.0171\n",
      "Epoch 18/50\n",
      "26293/26293 [==============================] - 3s 102us/step - loss: 0.0133 - val_loss: 0.0164\n",
      "Epoch 19/50\n",
      "26293/26293 [==============================] - 3s 100us/step - loss: 0.0133 - val_loss: 0.0170\n",
      "Epoch 20/50\n",
      "26293/26293 [==============================] - 3s 99us/step - loss: 0.0133 - val_loss: 0.0170\n",
      "Epoch 21/50\n",
      "26293/26293 [==============================] - 3s 101us/step - loss: 0.0133 - val_loss: 0.0160\n",
      "Epoch 22/50\n",
      "26293/26293 [==============================] - 3s 99us/step - loss: 0.0131 - val_loss: 0.0162\n",
      "Epoch 23/50\n",
      "26293/26293 [==============================] - 3s 100us/step - loss: 0.0132 - val_loss: 0.0174\n",
      "Epoch 24/50\n",
      "26293/26293 [==============================] - 3s 100us/step - loss: 0.0132 - val_loss: 0.0168\n",
      "Epoch 25/50\n",
      "26293/26293 [==============================] - 3s 99us/step - loss: 0.0133 - val_loss: 0.0171\n",
      "Epoch 26/50\n",
      "26293/26293 [==============================] - 3s 100us/step - loss: 0.0134 - val_loss: 0.0177\n",
      "Epoch 27/50\n",
      "26293/26293 [==============================] - 3s 101us/step - loss: 0.0134 - val_loss: 0.0172\n",
      "Epoch 28/50\n",
      "26293/26293 [==============================] - 3s 99us/step - loss: 0.0133 - val_loss: 0.0169\n",
      "Epoch 29/50\n",
      "26293/26293 [==============================] - 3s 100us/step - loss: 0.0134 - val_loss: 0.0176\n",
      "Epoch 30/50\n",
      "26293/26293 [==============================] - 3s 100us/step - loss: 0.0133 - val_loss: 0.0179\n",
      "Epoch 31/50\n",
      "26293/26293 [==============================] - 3s 102us/step - loss: 0.0134 - val_loss: 0.0175\n",
      "Epoch 32/50\n",
      "26293/26293 [==============================] - 3s 102us/step - loss: 0.0133 - val_loss: 0.0179\n",
      "Epoch 33/50\n",
      "26293/26293 [==============================] - 3s 104us/step - loss: 0.0133 - val_loss: 0.0170\n",
      "Epoch 34/50\n",
      "26293/26293 [==============================] - 3s 101us/step - loss: 0.0133 - val_loss: 0.0166\n",
      "Epoch 35/50\n",
      "26293/26293 [==============================] - 3s 102us/step - loss: 0.0133 - val_loss: 0.0177\n",
      "Epoch 36/50\n",
      "26293/26293 [==============================] - 3s 100us/step - loss: 0.0133 - val_loss: 0.0173\n",
      "Epoch 37/50\n",
      "26293/26293 [==============================] - 3s 100us/step - loss: 0.0133 - val_loss: 0.0180\n",
      "Epoch 38/50\n",
      "26293/26293 [==============================] - 3s 100us/step - loss: 0.0133 - val_loss: 0.0170\n",
      "Epoch 39/50\n",
      "26293/26293 [==============================] - 3s 100us/step - loss: 0.0133 - val_loss: 0.0173\n",
      "Epoch 40/50\n",
      "26293/26293 [==============================] - 3s 101us/step - loss: 0.0133 - val_loss: 0.0172\n",
      "Epoch 41/50\n",
      "26293/26293 [==============================] - 3s 105us/step - loss: 0.0133 - val_loss: 0.0169\n",
      "Epoch 42/50\n",
      "26293/26293 [==============================] - 3s 101us/step - loss: 0.0133 - val_loss: 0.0173\n",
      "Epoch 43/50\n",
      "26293/26293 [==============================] - 3s 100us/step - loss: 0.0133 - val_loss: 0.0173\n",
      "Epoch 44/50\n",
      "26293/26293 [==============================] - 3s 101us/step - loss: 0.0132 - val_loss: 0.0177\n",
      "Epoch 45/50\n",
      "26293/26293 [==============================] - 3s 105us/step - loss: 0.0133 - val_loss: 0.0189\n",
      "Epoch 46/50\n",
      "26293/26293 [==============================] - 3s 102us/step - loss: 0.0132 - val_loss: 0.0180\n",
      "Epoch 47/50\n",
      "26293/26293 [==============================] - 3s 105us/step - loss: 0.0133 - val_loss: 0.0182\n",
      "Epoch 48/50\n",
      "26293/26293 [==============================] - 3s 100us/step - loss: 0.0132 - val_loss: 0.0195\n",
      "Epoch 49/50\n",
      "26293/26293 [==============================] - 3s 100us/step - loss: 0.0132 - val_loss: 0.0191\n",
      "Epoch 50/50\n",
      "26293/26293 [==============================] - 3s 100us/step - loss: 0.0133 - val_loss: 0.0179\n"
     ]
    }
   ],
   "source": [
    "if os.path.exists(model_filepath):\n",
    "    model = load_model(model_filepath)\n",
    "else:    \n",
    "    model = Sequential()\n",
    "    model.add(LSTM(50, return_sequences=True, input_shape=(time_steps, data_dim)))\n",
    "    model.add(LSTM(50))\n",
    "    model.add(Dense(1))\n",
    "    model.compile(loss='mae', optimizer='adam')\n",
    "    # train\n",
    "    history = model.fit(\n",
    "        X_train, y_train, epochs=50, batch_size=72, shuffle=False, validation_split=0.2)\n",
    "    # save model\n",
    "    model.save(model_filepath)\n",
    "    train_result = DataFrame(history.history)\n",
    "    # save train results\n",
    "    train_result.to_csv(train_history_filepath, encoding='utf-8')"
   ]
  },
  {
   "cell_type": "code",
   "execution_count": 30,
   "metadata": {},
   "outputs": [],
   "source": [
    "if os.path.exists(train_history_filepath):\n",
    "    train_result = pd.read_csv(train_history_filepath)"
   ]
  },
  {
   "cell_type": "code",
   "execution_count": 31,
   "metadata": {
    "scrolled": true
   },
   "outputs": [
    {
     "data": {
      "text/plain": [
       "<matplotlib.axes._subplots.AxesSubplot at 0x1a327cc780>"
      ]
     },
     "execution_count": 31,
     "metadata": {},
     "output_type": "execute_result"
    },
    {
     "data": {
      "image/png": "[encoded data removed]",
      "text/plain": [
       "<Figure size 432x288 with 1 Axes>"
      ]
     },
     "metadata": {},
     "output_type": "display_data"
    }
   ],
   "source": [
    "train_result[['loss', 'val_loss']].plot()"
   ]
  },
  {
   "cell_type": "code",
   "execution_count": 32,
   "metadata": {},
   "outputs": [],
   "source": [
    "y_pred_train = model.predict(X_train)"
   ]
  },
  {
   "cell_type": "code",
   "execution_count": 33,
   "metadata": {},
   "outputs": [
    {
     "data": {
      "text/plain": [
       "0.89374200516925206"
      ]
     },
     "execution_count": 33,
     "metadata": {},
     "output_type": "execute_result"
    }
   ],
   "source": [
    "train_score = r2_score(y_train, y_pred_train)\n",
    "train_score"
   ]
  },
  {
   "cell_type": "code",
   "execution_count": 34,
   "metadata": {},
   "outputs": [],
   "source": [
    "y_pred_test = model.predict(X_test)"
   ]
  },
  {
   "cell_type": "code",
   "execution_count": 35,
   "metadata": {},
   "outputs": [
    {
     "data": {
      "text/plain": [
       "0.92195847670870434"
      ]
     },
     "execution_count": 35,
     "metadata": {},
     "output_type": "execute_result"
    }
   ],
   "source": [
    "test_score = r2_score(y_test, y_pred_test)\n",
    "test_score"
   ]
  },
  {
   "cell_type": "code",
   "execution_count": 36,
   "metadata": {},
   "outputs": [
    {
     "data": {
      "text/plain": [
       "[<matplotlib.lines.Line2D at 0x1a3422c390>]"
      ]
     },
     "execution_count": 36,
     "metadata": {},
     "output_type": "execute_result"
    },
    {
     "data": {
      "image/png": "[encoded data removed]",
      "text/plain": [
       "<Figure size 432x288 with 1 Axes>"
      ]
     },
     "metadata": {},
     "output_type": "display_data"
    }
   ],
   "source": [
    "train_size = len(X_train)\n",
    "xs_train = np.arange(train_size)\n",
    "xs_test = np.arange(train_size, len(y))\n",
    "plt.plot(y)\n",
    "plt.plot(xs_train, y_pred_train)\n",
    "plt.plot(xs_test, y_pred_test)"
   ]
  },
  {
   "cell_type": "markdown",
   "metadata": {},
   "source": [
    "## Multi Lag Prediction\n",
    "\n",
    "..., x(t-1), x(t) --> y(t+1)"
   ]
  },
  {
   "cell_type": "code",
   "execution_count": 37,
   "metadata": {},
   "outputs": [],
   "source": [
    "X, Y = time_step_seq(data, look_back=1, look_forward=1)"
   ]
  },
  {
   "cell_type": "code",
   "execution_count": 38,
   "metadata": {},
   "outputs": [
    {
     "data": {
      "text/plain": [
       "(43822, 2, 11)"
      ]
     },
     "execution_count": 38,
     "metadata": {},
     "output_type": "execute_result"
    }
   ],
   "source": [
    "X.shape"
   ]
  },
  {
   "cell_type": "code",
   "execution_count": 39,
   "metadata": {},
   "outputs": [
    {
     "data": {
      "text/plain": [
       "(43822, 1, 11)"
      ]
     },
     "execution_count": 39,
     "metadata": {},
     "output_type": "execute_result"
    }
   ],
   "source": [
    "Y.shape"
   ]
  },
  {
   "cell_type": "code",
   "execution_count": 40,
   "metadata": {},
   "outputs": [],
   "source": [
    "y = Y[:, 0, 0]"
   ]
  },
  {
   "cell_type": "markdown",
   "metadata": {},
   "source": [
    "Train/Test"
   ]
  },
  {
   "cell_type": "code",
   "execution_count": 41,
   "metadata": {},
   "outputs": [],
   "source": [
    "X_train, X_test, y_train, y_test = train_test_split(X, y, shuffle=False)"
   ]
  },
  {
   "cell_type": "code",
   "execution_count": 42,
   "metadata": {},
   "outputs": [
    {
     "data": {
      "text/plain": [
       "(32866, 2, 11)"
      ]
     },
     "execution_count": 42,
     "metadata": {},
     "output_type": "execute_result"
    }
   ],
   "source": [
    "X_train.shape"
   ]
  },
  {
   "cell_type": "markdown",
   "metadata": {},
   "source": [
    "모델 구성"
   ]
  },
  {
   "cell_type": "code",
   "execution_count": 43,
   "metadata": {},
   "outputs": [],
   "source": [
    "model_filepath = '../outputs/mv-rnn-input_2_ouput_1.h5'\n",
    "train_history_filepath = '../outputs/train-history-mv-rnn-input_2_output_1.csv'"
   ]
  },
  {
   "cell_type": "code",
   "execution_count": 44,
   "metadata": {},
   "outputs": [],
   "source": [
    "time_steps = X.shape[1]\n",
    "data_dim = X.shape[-1]"
   ]
  },
  {
   "cell_type": "code",
   "execution_count": 45,
   "metadata": {
    "collapsed": true
   },
   "outputs": [
    {
     "name": "stdout",
     "output_type": "stream",
     "text": [
      "Train on 26292 samples, validate on 6574 samples\n",
      "Epoch 1/50\n",
      "26292/26292 [==============================] - 2s 90us/step - loss: 0.0322 - val_loss: 0.0564\n",
      "Epoch 2/50\n",
      "26292/26292 [==============================] - 2s 80us/step - loss: 0.0176 - val_loss: 0.0243\n",
      "Epoch 3/50\n",
      "26292/26292 [==============================] - 2s 80us/step - loss: 0.0160 - val_loss: 0.0197\n",
      "Epoch 4/50\n",
      "26292/26292 [==============================] - 2s 80us/step - loss: 0.0157 - val_loss: 0.0181\n",
      "Epoch 5/50\n",
      "26292/26292 [==============================] - 2s 81us/step - loss: 0.0152 - val_loss: 0.0193\n",
      "Epoch 6/50\n",
      "26292/26292 [==============================] - 2s 80us/step - loss: 0.0148 - val_loss: 0.0175\n",
      "Epoch 7/50\n",
      "26292/26292 [==============================] - 2s 79us/step - loss: 0.0142 - val_loss: 0.0163\n",
      "Epoch 8/50\n",
      "26292/26292 [==============================] - 2s 80us/step - loss: 0.0136 - val_loss: 0.0149\n",
      "Epoch 9/50\n",
      "26292/26292 [==============================] - 2s 79us/step - loss: 0.0135 - val_loss: 0.0142\n",
      "Epoch 10/50\n",
      "26292/26292 [==============================] - 2s 79us/step - loss: 0.0135 - val_loss: 0.0141\n",
      "Epoch 11/50\n",
      "26292/26292 [==============================] - 2s 80us/step - loss: 0.0134 - val_loss: 0.0142\n",
      "Epoch 12/50\n",
      "26292/26292 [==============================] - 2s 80us/step - loss: 0.0133 - val_loss: 0.0139\n",
      "Epoch 13/50\n",
      "26292/26292 [==============================] - 2s 79us/step - loss: 0.0135 - val_loss: 0.0141\n",
      "Epoch 14/50\n",
      "26292/26292 [==============================] - 2s 80us/step - loss: 0.0133 - val_loss: 0.0142\n",
      "Epoch 15/50\n",
      "26292/26292 [==============================] - 2s 80us/step - loss: 0.0133 - val_loss: 0.0148\n",
      "Epoch 16/50\n",
      "26292/26292 [==============================] - 2s 81us/step - loss: 0.0134 - val_loss: 0.0157\n",
      "Epoch 17/50\n",
      "26292/26292 [==============================] - 2s 80us/step - loss: 0.0133 - val_loss: 0.0161\n",
      "Epoch 18/50\n",
      "26292/26292 [==============================] - 2s 80us/step - loss: 0.0131 - val_loss: 0.0145\n",
      "Epoch 19/50\n",
      "26292/26292 [==============================] - 2s 81us/step - loss: 0.0130 - val_loss: 0.0149\n",
      "Epoch 20/50\n",
      "26292/26292 [==============================] - 2s 80us/step - loss: 0.0132 - val_loss: 0.0148\n",
      "Epoch 21/50\n",
      "26292/26292 [==============================] - 2s 80us/step - loss: 0.0130 - val_loss: 0.0149\n",
      "Epoch 22/50\n",
      "26292/26292 [==============================] - 2s 80us/step - loss: 0.0130 - val_loss: 0.0143\n",
      "Epoch 23/50\n",
      "26292/26292 [==============================] - 2s 79us/step - loss: 0.0130 - val_loss: 0.0148\n",
      "Epoch 24/50\n",
      "26292/26292 [==============================] - 2s 80us/step - loss: 0.0130 - val_loss: 0.0143\n",
      "Epoch 25/50\n",
      "26292/26292 [==============================] - 2s 80us/step - loss: 0.0131 - val_loss: 0.0145\n",
      "Epoch 26/50\n",
      "26292/26292 [==============================] - 2s 81us/step - loss: 0.0130 - val_loss: 0.0148\n",
      "Epoch 27/50\n",
      "26292/26292 [==============================] - 2s 80us/step - loss: 0.0130 - val_loss: 0.0144\n",
      "Epoch 28/50\n",
      "26292/26292 [==============================] - 2s 80us/step - loss: 0.0130 - val_loss: 0.0148\n",
      "Epoch 29/50\n",
      "26292/26292 [==============================] - 2s 80us/step - loss: 0.0130 - val_loss: 0.0148\n",
      "Epoch 30/50\n",
      "26292/26292 [==============================] - 2s 80us/step - loss: 0.0130 - val_loss: 0.0148\n",
      "Epoch 31/50\n",
      "26292/26292 [==============================] - 2s 80us/step - loss: 0.0130 - val_loss: 0.0149\n",
      "Epoch 32/50\n",
      "26292/26292 [==============================] - 2s 80us/step - loss: 0.0129 - val_loss: 0.0148\n",
      "Epoch 33/50\n",
      "26292/26292 [==============================] - 2s 80us/step - loss: 0.0129 - val_loss: 0.0160\n",
      "Epoch 34/50\n",
      "26292/26292 [==============================] - 2s 80us/step - loss: 0.0130 - val_loss: 0.0151\n",
      "Epoch 35/50\n",
      "26292/26292 [==============================] - 2s 80us/step - loss: 0.0129 - val_loss: 0.0158\n",
      "Epoch 36/50\n",
      "26292/26292 [==============================] - 2s 80us/step - loss: 0.0130 - val_loss: 0.0149\n",
      "Epoch 37/50\n",
      "26292/26292 [==============================] - 2s 79us/step - loss: 0.0130 - val_loss: 0.0154\n",
      "Epoch 38/50\n",
      "26292/26292 [==============================] - 2s 80us/step - loss: 0.0129 - val_loss: 0.0160\n",
      "Epoch 39/50\n",
      "26292/26292 [==============================] - 2s 80us/step - loss: 0.0129 - val_loss: 0.0156\n",
      "Epoch 40/50\n",
      "26292/26292 [==============================] - 2s 80us/step - loss: 0.0129 - val_loss: 0.0159\n",
      "Epoch 41/50\n",
      "26292/26292 [==============================] - 2s 80us/step - loss: 0.0129 - val_loss: 0.0171\n",
      "Epoch 42/50\n",
      "26292/26292 [==============================] - 2s 80us/step - loss: 0.0130 - val_loss: 0.0159\n",
      "Epoch 43/50\n",
      "26292/26292 [==============================] - 2s 81us/step - loss: 0.0129 - val_loss: 0.0176\n",
      "Epoch 44/50\n",
      "26292/26292 [==============================] - 2s 81us/step - loss: 0.0129 - val_loss: 0.0173\n",
      "Epoch 45/50\n",
      "26292/26292 [==============================] - 2s 82us/step - loss: 0.0129 - val_loss: 0.0171\n",
      "Epoch 46/50\n",
      "26292/26292 [==============================] - 2s 80us/step - loss: 0.0129 - val_loss: 0.0167\n",
      "Epoch 47/50\n",
      "26292/26292 [==============================] - 2s 81us/step - loss: 0.0128 - val_loss: 0.0168\n",
      "Epoch 48/50\n",
      "26292/26292 [==============================] - 2s 80us/step - loss: 0.0129 - val_loss: 0.0167\n",
      "Epoch 49/50\n",
      "26292/26292 [==============================] - 2s 80us/step - loss: 0.0129 - val_loss: 0.0167\n",
      "Epoch 50/50\n",
      "26292/26292 [==============================] - 2s 80us/step - loss: 0.0129 - val_loss: 0.0169\n"
     ]
    }
   ],
   "source": [
    "if os.path.exists(model_filepath):\n",
    "    model = load_model(model_filepath)\n",
    "else:    \n",
    "    model = Sequential()\n",
    "    model.add(LSTM(50, input_shape=(time_steps, data_dim)))\n",
    "    model.add(Dense(1))\n",
    "    model.compile(loss='mae', optimizer='adam')\n",
    "    # train\n",
    "    history = model.fit(\n",
    "        X_train, y_train, epochs=50, batch_size=72, shuffle=False, validation_split=0.2)\n",
    "    # save model\n",
    "    model.save(model_filepath)\n",
    "    train_result = DataFrame(history.history)\n",
    "    # save train results\n",
    "    train_result.to_csv(train_history_filepath, encoding='utf-8')"
   ]
  },
  {
   "cell_type": "code",
   "execution_count": 46,
   "metadata": {},
   "outputs": [],
   "source": [
    "if os.path.exists(train_history_filepath):\n",
    "    train_result = pd.read_csv(train_history_filepath)"
   ]
  },
  {
   "cell_type": "code",
   "execution_count": 47,
   "metadata": {
    "scrolled": true
   },
   "outputs": [
    {
     "data": {
      "text/plain": [
       "<matplotlib.axes._subplots.AxesSubplot at 0x1a34cc67f0>"
      ]
     },
     "execution_count": 47,
     "metadata": {},
     "output_type": "execute_result"
    },
    {
     "data": {
      "image/png": "[encoded data removed]",
      "text/plain": [
       "<Figure size 432x288 with 1 Axes>"
      ]
     },
     "metadata": {},
     "output_type": "display_data"
    }
   ],
   "source": [
    "train_result[['loss', 'val_loss']].plot()"
   ]
  },
  {
   "cell_type": "code",
   "execution_count": 48,
   "metadata": {},
   "outputs": [],
   "source": [
    "y_pred_train = model.predict(X_train)"
   ]
  },
  {
   "cell_type": "code",
   "execution_count": 49,
   "metadata": {},
   "outputs": [
    {
     "data": {
      "text/plain": [
       "0.89880641374582737"
      ]
     },
     "execution_count": 49,
     "metadata": {},
     "output_type": "execute_result"
    }
   ],
   "source": [
    "train_score = r2_score(y_train, y_pred_train)\n",
    "train_score"
   ]
  },
  {
   "cell_type": "code",
   "execution_count": 50,
   "metadata": {},
   "outputs": [],
   "source": [
    "y_pred_test = model.predict(X_test)"
   ]
  },
  {
   "cell_type": "code",
   "execution_count": 51,
   "metadata": {},
   "outputs": [
    {
     "data": {
      "text/plain": [
       "0.92762303407350521"
      ]
     },
     "execution_count": 51,
     "metadata": {},
     "output_type": "execute_result"
    }
   ],
   "source": [
    "test_score = r2_score(y_test, y_pred_test)\n",
    "test_score"
   ]
  },
  {
   "cell_type": "code",
   "execution_count": 52,
   "metadata": {},
   "outputs": [
    {
     "data": {
      "text/plain": [
       "[<matplotlib.lines.Line2D at 0x1a38ccfc18>]"
      ]
     },
     "execution_count": 52,
     "metadata": {},
     "output_type": "execute_result"
    },
    {
     "data": {
      "image/png": "[encoded data removed]",
      "text/plain": [
       "<Figure size 432x288 with 1 Axes>"
      ]
     },
     "metadata": {},
     "output_type": "display_data"
    }
   ],
   "source": [
    "train_size = len(X_train)\n",
    "xs_train = np.arange(train_size)\n",
    "xs_test = np.arange(train_size, len(y))\n",
    "plt.plot(y)\n",
    "plt.plot(xs_train, y_pred_train)\n",
    "plt.plot(xs_test, y_pred_test)"
   ]
  },
  {
   "cell_type": "code",
   "execution_count": null,
   "metadata": {},
   "outputs": [],
   "source": []
  }
 ],
 "metadata": {
  "kernelspec": {
   "display_name": "Python 3",
   "language": "python",
   "name": "python3"
  },
  "language_info": {
   "codemirror_mode": {
    "name": "ipython",
    "version": 3
   },
   "file_extension": ".py",
   "mimetype": "text/x-python",
   "name": "python",
   "nbconvert_exporter": "python",
   "pygments_lexer": "ipython3",
   "version": "3.6.7"
  }
 },
 "nbformat": 4,
 "nbformat_minor": 2
}
